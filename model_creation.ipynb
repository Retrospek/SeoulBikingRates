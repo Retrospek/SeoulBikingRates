{
 "cells": [
  {
   "cell_type": "markdown",
   "metadata": {},
   "source": [
    "# **Creating the Machine Learning or Deep Learning Model**"
   ]
  },
  {
   "cell_type": "markdown",
   "metadata": {},
   "source": [
    "Import packages - Will be focusing on the Pytorch implementation for further customizability in model architecture and training"
   ]
  },
  {
   "cell_type": "code",
   "execution_count": 1,
   "metadata": {},
   "outputs": [
    {
     "name": "stdout",
     "output_type": "stream",
     "text": [
      "Torch version: 2.4.1+cu118\n",
      "Is there CUDA available = True\n",
      "NumPy version: 1.26.4\n",
      "Matplotlib version: 3.9.2\n",
      "Pandas version: 2.2.0\n",
      "Scikit-learn version: 1.5.2\n"
     ]
    }
   ],
   "source": [
    "# Pytorch\n",
    "import torch                        # for all things Pytorch\n",
    "import torch.nn as nn               # for torch.nn Module, the Parent object for Pytorch models\n",
    "import torch.nn.functional as F     # for the activation function\n",
    "import torch.optim as optim\n",
    "from torch.utils.data import Dataset, DataLoader, TensorDataset, random_split\n",
    "print(f\"Torch version: {torch.__version__}\")\n",
    "# Check CUDA availability\n",
    "print(f\"Is there CUDA available = {torch.cuda.is_available()}\")\n",
    "gpu_device = torch.device(\"cuda\" if torch.cuda.is_available() else \"cpu\")\n",
    "\n",
    "\n",
    "# Numpy\n",
    "import numpy as np\n",
    "print(f\"NumPy version: {np.__version__}\")\n",
    "\n",
    "# Matplotlib\n",
    "import matplotlib as mpl\n",
    "import matplotlib.pyplot as plt\n",
    "print(f\"Matplotlib version: {mpl.__version__}\")\n",
    "\n",
    "# Pandas\n",
    "import pandas as pd\n",
    "print(f\"Pandas version: {pd.__version__}\")\n",
    "\n",
    "# Scikit-Learn\n",
    "import sklearn as sk\n",
    "from sklearn.metrics import root_mean_squared_error, r2_score, mean_squared_error, mean_absolute_percentage_error, mean_absolute_error\n",
    "from sklearn.model_selection import train_test_split, cross_val_score\n",
    "from sklearn.ensemble import RandomForestRegressor\n",
    "from sklearn.tree import DecisionTreeRegressor\n",
    "from sklearn.linear_model import LinearRegression, Lasso\n",
    "print(f\"Scikit-learn version: {sk.__version__}\")\n",
    "\n",
    "from xgboost import XGBRegressor\n",
    "\n",
    "import joblib\n"
   ]
  },
  {
   "cell_type": "markdown",
   "metadata": {},
   "source": [
    "Load in Data"
   ]
  },
  {
   "cell_type": "code",
   "execution_count": 2,
   "metadata": {},
   "outputs": [
    {
     "name": "stdout",
     "output_type": "stream",
     "text": [
      "Dataframe Columns: ['Date' 'Rented Bike Count' 'Hour' 'Temperature(C)' 'Humidity(%)'\n",
      " 'Wind speed (m/s)' 'Visibility (10m)' 'Dew point temperature(ï¿½C)'\n",
      " 'Solar Radiation (MJ/m2)' 'Rainfall(mm)' 'Snowfall (cm)' 'Seasons'\n",
      " 'Holiday' 'Functioning Day']\n"
     ]
    },
    {
     "data": {
      "text/html": [
       "<div>\n",
       "<style scoped>\n",
       "    .dataframe tbody tr th:only-of-type {\n",
       "        vertical-align: middle;\n",
       "    }\n",
       "\n",
       "    .dataframe tbody tr th {\n",
       "        vertical-align: top;\n",
       "    }\n",
       "\n",
       "    .dataframe thead th {\n",
       "        text-align: right;\n",
       "    }\n",
       "</style>\n",
       "<table border=\"1\" class=\"dataframe\">\n",
       "  <thead>\n",
       "    <tr style=\"text-align: right;\">\n",
       "      <th></th>\n",
       "      <th>Date</th>\n",
       "      <th>Rented Bike Count</th>\n",
       "      <th>Hour</th>\n",
       "      <th>Temperature(C)</th>\n",
       "      <th>Humidity(%)</th>\n",
       "      <th>Wind speed (m/s)</th>\n",
       "      <th>Visibility (10m)</th>\n",
       "      <th>Dew point temperature(ï¿½C)</th>\n",
       "      <th>Solar Radiation (MJ/m2)</th>\n",
       "      <th>Rainfall(mm)</th>\n",
       "      <th>Snowfall (cm)</th>\n",
       "      <th>Seasons</th>\n",
       "      <th>Holiday</th>\n",
       "      <th>Functioning Day</th>\n",
       "    </tr>\n",
       "  </thead>\n",
       "  <tbody>\n",
       "    <tr>\n",
       "      <th>0</th>\n",
       "      <td>01/12/2017</td>\n",
       "      <td>254</td>\n",
       "      <td>0</td>\n",
       "      <td>-5.2</td>\n",
       "      <td>37</td>\n",
       "      <td>2.2</td>\n",
       "      <td>2000</td>\n",
       "      <td>-17.6</td>\n",
       "      <td>0.0</td>\n",
       "      <td>0.0</td>\n",
       "      <td>0.0</td>\n",
       "      <td>Winter</td>\n",
       "      <td>No Holiday</td>\n",
       "      <td>Yes</td>\n",
       "    </tr>\n",
       "    <tr>\n",
       "      <th>1</th>\n",
       "      <td>01/12/2017</td>\n",
       "      <td>204</td>\n",
       "      <td>1</td>\n",
       "      <td>-5.5</td>\n",
       "      <td>38</td>\n",
       "      <td>0.8</td>\n",
       "      <td>2000</td>\n",
       "      <td>-17.6</td>\n",
       "      <td>0.0</td>\n",
       "      <td>0.0</td>\n",
       "      <td>0.0</td>\n",
       "      <td>Winter</td>\n",
       "      <td>No Holiday</td>\n",
       "      <td>Yes</td>\n",
       "    </tr>\n",
       "  </tbody>\n",
       "</table>\n",
       "</div>"
      ],
      "text/plain": [
       "         Date  Rented Bike Count  Hour  Temperature(C)  Humidity(%)  \\\n",
       "0  01/12/2017                254     0            -5.2           37   \n",
       "1  01/12/2017                204     1            -5.5           38   \n",
       "\n",
       "   Wind speed (m/s)  Visibility (10m)  Dew point temperature(ï¿½C)  \\\n",
       "0               2.2              2000                        -17.6   \n",
       "1               0.8              2000                        -17.6   \n",
       "\n",
       "   Solar Radiation (MJ/m2)  Rainfall(mm)  Snowfall (cm) Seasons     Holiday  \\\n",
       "0                      0.0           0.0            0.0  Winter  No Holiday   \n",
       "1                      0.0           0.0            0.0  Winter  No Holiday   \n",
       "\n",
       "  Functioning Day  \n",
       "0             Yes  \n",
       "1             Yes  "
      ]
     },
     "execution_count": 2,
     "metadata": {},
     "output_type": "execute_result"
    }
   ],
   "source": [
    "data_hourly = pd.read_csv(\"SeoulBikeData.csv\", encoding='ISO-8859-1')\n",
    "print(f\"Dataframe Columns: {data_hourly.columns.values}\")\n",
    "data_hourly.head(2)"
   ]
  },
  {
   "cell_type": "markdown",
   "metadata": {},
   "source": [
    "# Model Creation\n",
    "Goal: Create a Model that is able to predict the total number of bike rentals in Seoul given 24 hours, which results in 24 different predictions where we kinda model the curve that reprsents Rentals per hour.\n",
    "Additionally, we might consider an LSTM network to consider past hour rentals. Additionally, we have to answer the question if the data is dependent on previous hours or not.\n",
    "\n",
    "Additional Models:\n",
    "- One model for predicting the amount of bikes for a specific HOUR\n",
    "- One model for predicting the amount of bikes for a specific DAY\n",
    "\n",
    "\n",
    "Considerations:\n",
    "\n",
    "- *LSTM Network possibly* ------ MAIN GOAL for us to predict the curve of bike rentals from a week of data beforehand\n",
    "- Deep Regression Netowrk(MLP) for Regression\n",
    "- Linear Regression ML Model"
   ]
  },
  {
   "cell_type": "markdown",
   "metadata": {},
   "source": [
    "Most Important Features Ranked 1(Most Important) - 3(Least Important): These are Assumptions\n",
    "- Rented Bike Count (TARGET VARIABLE)\n",
    "- Hour                      1\n",
    "- Temperature               1\n",
    "- Humidity                  2\n",
    "- Wind Speed                3\n",
    "- Visibility                3\n",
    "- Dew Point Temperature     1\n",
    "- Solar Radiation           1\n",
    "- Rainfall                  1\n",
    "- Snowfall                  1\n",
    "- Seasons                   3\n",
    "- Holiday                   3\n",
    "- Functioning Day           2"
   ]
  },
  {
   "cell_type": "markdown",
   "metadata": {},
   "source": [
    "# Preprocess and set-up data"
   ]
  },
  {
   "cell_type": "markdown",
   "metadata": {},
   "source": [
    "One Hot encoding the seasons, and binary encoding the holiday and functional day"
   ]
  },
  {
   "cell_type": "code",
   "execution_count": 3,
   "metadata": {},
   "outputs": [],
   "source": [
    "# Min-max scaling function\n",
    "def min_max_scaling(series):\n",
    "    return (series - series.min()) / (series.max() - series.min())"
   ]
  },
  {
   "cell_type": "markdown",
   "metadata": {},
   "source": [
    "# *THE HOURLY BASED DATAFRAME*"
   ]
  },
  {
   "cell_type": "code",
   "execution_count": 4,
   "metadata": {},
   "outputs": [
    {
     "name": "stdout",
     "output_type": "stream",
     "text": [
      "['Winter' 'Spring' 'Summer' 'Autumn']\n"
     ]
    }
   ],
   "source": [
    "########## RUN ONLY ONCE ######################\n",
    "\n",
    "# One-hot encode column 'SEASON'\n",
    "one_hot_encoded = pd.get_dummies(data_hourly['Seasons'], prefix='Season', drop_first=False)\n",
    "print(data_hourly['Seasons'].unique())\n",
    "# Concatenate the original DataFrame with the one-hot encoded columns of SEASONS\n",
    "data_hourly = pd.concat([data_hourly, one_hot_encoded], axis=1)\n",
    "\n",
    "# Binary encoding of the Functioning day YES or NO\n",
    "data_hourly['Functioning Day'] = (data_hourly['Functioning Day'] == 'Yes').astype(int)\n",
    "\n",
    "# Binary encoding of the Holiday day NO HOLIDAY or HOLIDAY\n",
    "data_hourly['Holiday'] = (data_hourly['Holiday'] == 'No Holiday').astype(int)"
   ]
  },
  {
   "cell_type": "markdown",
   "metadata": {},
   "source": [
    "Try to normalize the Temperatures, so values are >= 0"
   ]
  },
  {
   "cell_type": "code",
   "execution_count": 5,
   "metadata": {},
   "outputs": [
    {
     "name": "stdout",
     "output_type": "stream",
     "text": [
      "Unscaled Min: -30.6\n",
      "Scaled Max: 57.8\n"
     ]
    }
   ],
   "source": [
    "# THE MINIMUM DEW POINT TEMP\n",
    "min = np.min(data_hourly['Dew point temperature(ï¿½C)'].values) \n",
    "\n",
    "# SCALING THE MAX value with Min value absolute value, so we can see if we can push all variables to being positive\n",
    "max = np.max(data_hourly['Dew point temperature(ï¿½C)'].values) + np.abs(min)\n",
    "\n",
    "print(f\"Unscaled Min: {min}\")\n",
    "print(f\"Scaled Max: {max}\")\n",
    "\n",
    "#data['Dew point temperature(ï¿½C)'] = "
   ]
  },
  {
   "cell_type": "code",
   "execution_count": 6,
   "metadata": {},
   "outputs": [
    {
     "data": {
      "text/html": [
       "<div>\n",
       "<style scoped>\n",
       "    .dataframe tbody tr th:only-of-type {\n",
       "        vertical-align: middle;\n",
       "    }\n",
       "\n",
       "    .dataframe tbody tr th {\n",
       "        vertical-align: top;\n",
       "    }\n",
       "\n",
       "    .dataframe thead th {\n",
       "        text-align: right;\n",
       "    }\n",
       "</style>\n",
       "<table border=\"1\" class=\"dataframe\">\n",
       "  <thead>\n",
       "    <tr style=\"text-align: right;\">\n",
       "      <th></th>\n",
       "      <th>Date</th>\n",
       "      <th>Rented Bike Count</th>\n",
       "      <th>Hour</th>\n",
       "      <th>Temperature(C)</th>\n",
       "      <th>Humidity(%)</th>\n",
       "      <th>Wind speed (m/s)</th>\n",
       "      <th>Visibility (10m)</th>\n",
       "      <th>Dew point temperature(ï¿½C)</th>\n",
       "      <th>Solar Radiation (MJ/m2)</th>\n",
       "      <th>Rainfall(mm)</th>\n",
       "      <th>Snowfall (cm)</th>\n",
       "      <th>Seasons</th>\n",
       "      <th>Holiday</th>\n",
       "      <th>Functioning Day</th>\n",
       "      <th>Season_Autumn</th>\n",
       "      <th>Season_Spring</th>\n",
       "      <th>Season_Summer</th>\n",
       "      <th>Season_Winter</th>\n",
       "    </tr>\n",
       "  </thead>\n",
       "  <tbody>\n",
       "    <tr>\n",
       "      <th>0</th>\n",
       "      <td>01/12/2017</td>\n",
       "      <td>254</td>\n",
       "      <td>0</td>\n",
       "      <td>-5.2</td>\n",
       "      <td>37</td>\n",
       "      <td>2.2</td>\n",
       "      <td>2000</td>\n",
       "      <td>-17.6</td>\n",
       "      <td>0.0</td>\n",
       "      <td>0.0</td>\n",
       "      <td>0.0</td>\n",
       "      <td>Winter</td>\n",
       "      <td>1</td>\n",
       "      <td>1</td>\n",
       "      <td>0</td>\n",
       "      <td>0</td>\n",
       "      <td>0</td>\n",
       "      <td>1</td>\n",
       "    </tr>\n",
       "    <tr>\n",
       "      <th>1</th>\n",
       "      <td>01/12/2017</td>\n",
       "      <td>204</td>\n",
       "      <td>1</td>\n",
       "      <td>-5.5</td>\n",
       "      <td>38</td>\n",
       "      <td>0.8</td>\n",
       "      <td>2000</td>\n",
       "      <td>-17.6</td>\n",
       "      <td>0.0</td>\n",
       "      <td>0.0</td>\n",
       "      <td>0.0</td>\n",
       "      <td>Winter</td>\n",
       "      <td>1</td>\n",
       "      <td>1</td>\n",
       "      <td>0</td>\n",
       "      <td>0</td>\n",
       "      <td>0</td>\n",
       "      <td>1</td>\n",
       "    </tr>\n",
       "  </tbody>\n",
       "</table>\n",
       "</div>"
      ],
      "text/plain": [
       "         Date  Rented Bike Count  Hour  Temperature(C)  Humidity(%)  \\\n",
       "0  01/12/2017                254     0            -5.2           37   \n",
       "1  01/12/2017                204     1            -5.5           38   \n",
       "\n",
       "   Wind speed (m/s)  Visibility (10m)  Dew point temperature(ï¿½C)  \\\n",
       "0               2.2              2000                        -17.6   \n",
       "1               0.8              2000                        -17.6   \n",
       "\n",
       "   Solar Radiation (MJ/m2)  Rainfall(mm)  Snowfall (cm) Seasons  Holiday  \\\n",
       "0                      0.0           0.0            0.0  Winter        1   \n",
       "1                      0.0           0.0            0.0  Winter        1   \n",
       "\n",
       "   Functioning Day  Season_Autumn  Season_Spring  Season_Summer  Season_Winter  \n",
       "0                1              0              0              0              1  \n",
       "1                1              0              0              0              1  "
      ]
     },
     "execution_count": 6,
     "metadata": {},
     "output_type": "execute_result"
    }
   ],
   "source": [
    "# COLUMNS TO CONVERT TO BINARY: 0 or 1\n",
    "bool_cols = ['Season_Autumn', 'Season_Spring','Season_Summer', 'Season_Winter']\n",
    "\n",
    "# Actually changing to Binary\n",
    "data_hourly[bool_cols] = data_hourly[bool_cols].astype(int)\n",
    "\n",
    "data_hourly.head(2)"
   ]
  },
  {
   "cell_type": "code",
   "execution_count": 7,
   "metadata": {},
   "outputs": [
    {
     "name": "stdout",
     "output_type": "stream",
     "text": [
      "Data Columns Index(['Date', 'Rented Bike Count', 'Hour', 'Temperature(C)', 'Humidity(%)',\n",
      "       'Wind speed (m/s)', 'Visibility (10m)', 'Dew point temperature(ï¿½C)',\n",
      "       'Solar Radiation (MJ/m2)', 'Rainfall(mm)', 'Snowfall (cm)', 'Seasons',\n",
      "       'Holiday', 'Functioning Day', 'Season_Autumn', 'Season_Spring',\n",
      "       'Season_Summer', 'Season_Winter', 'Month', 'Day', 'Year'],\n",
      "      dtype='object')\n"
     ]
    }
   ],
   "source": [
    "data_hourly['Date'] = pd.to_datetime(data_hourly['Date'], format='%d/%m/%Y')\n",
    "data_hourly['Month'] = data_hourly['Date'].dt.month\n",
    "data_hourly['Day'] = data_hourly['Date'].dt.day\n",
    "data_hourly['Year'] = data_hourly['Date'].dt.year\n",
    "print(f\"Data Columns {data_hourly.columns}\")"
   ]
  },
  {
   "cell_type": "code",
   "execution_count": 29,
   "metadata": {},
   "outputs": [
    {
     "data": {
      "text/plain": [
       "0    5.541264\n",
       "1    5.323010\n",
       "Name: Rented_Bike_LogScale, dtype: float64"
      ]
     },
     "execution_count": 29,
     "metadata": {},
     "output_type": "execute_result"
    }
   ],
   "source": [
    "# Convert Temperatures to Farenheit\n",
    "\n",
    "data_hourly['Temperature_C'] = (data_hourly['Temperature(C)'] * (9/5)) + 32\n",
    "data_hourly['Dew_point_temperature_C'] = (data_hourly['Dew point temperature(ï¿½C)'] * (9/5)) + 32\n",
    "\n",
    "# Apply min-max scaling to the columns\n",
    "data_hourly['Visibility_10m_Scaled'] = min_max_scaling(data_hourly['Visibility (10m)'])\n",
    "data_hourly['Temperature_C_Scaled'] = min_max_scaling(data_hourly['Temperature_C'])\n",
    "data_hourly['Humidity_percent_Scaled'] = min_max_scaling(data_hourly['Humidity(%)'])\n",
    "data_hourly['Wind_speed_m_s_Scaled'] = min_max_scaling(data_hourly['Wind speed (m/s)'])\n",
    "\n",
    "data_hourly['Rented_Bike_LogScale'] = np.log(data_hourly['Rented Bike Count'] + 1)\n",
    "\n",
    "data_hourly['Rented_Bike_LogScale'].head(2)"
   ]
  },
  {
   "cell_type": "markdown",
   "metadata": {},
   "source": [
    "Create Features and Target units"
   ]
  },
  {
   "cell_type": "code",
   "execution_count": 63,
   "metadata": {},
   "outputs": [
    {
     "data": {
      "text/plain": [
       "0    254\n",
       "1    204\n",
       "Name: Rented Bike Count, dtype: int64"
      ]
     },
     "execution_count": 63,
     "metadata": {},
     "output_type": "execute_result"
    }
   ],
   "source": [
    "X_hourly = data_hourly.drop(columns=['Rented Bike Count', 'Rented_Bike_LogScale', 'Date', 'Seasons', 'Year'])\n",
    "y_hourly = data_hourly['Rented Bike Count']\n",
    "y_hourly.head(2)"
   ]
  },
  {
   "cell_type": "markdown",
   "metadata": {},
   "source": [
    "# *THE DAILY BASED DATAFRAME*"
   ]
  },
  {
   "cell_type": "code",
   "execution_count": 10,
   "metadata": {},
   "outputs": [
    {
     "data": {
      "text/plain": [
       "Index(['Year', 'Month', 'Day', 'Rented_Bike_Count', 'Temperature_C',\n",
       "       'Humidity_percent', 'Wind_speed_m_s', 'Visibility_10m',\n",
       "       'Dew_point_temperature_C', 'Solar_Radiation_MJ_m2', 'Rainfall_mm',\n",
       "       'Snowfall_cm', 'Seasons', 'Holiday', 'Functioning_Day', 'Season_Autumn',\n",
       "       'Season_Spring', 'Season_Summer', 'Season_Winter',\n",
       "       'Visibility_10m_Scaled', 'Temperature_C_Scaled',\n",
       "       'Humidity_percent_Scaled', 'Wind_speed_m_s_Scaled',\n",
       "       'Rented_Bike_LogScale'],\n",
       "      dtype='object')"
      ]
     },
     "execution_count": 10,
     "metadata": {},
     "output_type": "execute_result"
    }
   ],
   "source": [
    "# Create a new DataFrame for daily aggregation\n",
    "daily = data_hourly.groupby(['Year', 'Month', 'Day']).agg(\n",
    "    Rented_Bike_Count=('Rented Bike Count', 'sum'),\n",
    "    Temperature_C=('Temperature(C)', 'mean'),\n",
    "    Humidity_percent=('Humidity(%)', 'mean'),\n",
    "    Wind_speed_m_s=('Wind speed (m/s)', 'mean'),\n",
    "    Visibility_10m=('Visibility (10m)', 'mean'),\n",
    "    Dew_point_temperature_C=('Dew point temperature(ï¿½C)', 'mean'),\n",
    "    Solar_Radiation_MJ_m2=('Solar Radiation (MJ/m2)', 'mean'),\n",
    "    Rainfall_mm=('Rainfall(mm)', 'mean'),\n",
    "    Snowfall_cm=('Snowfall (cm)', 'mean'),\n",
    "    Seasons=('Seasons', 'first'),  # Assuming seasons are consistent for the day\n",
    "    Holiday=('Holiday', 'first'),  # Assuming holiday status is consistent for the day\n",
    "    Functioning_Day=('Functioning Day', 'first'),  # Same for functioning day\n",
    "    Season_Autumn=('Season_Autumn', 'mean'),  # Mean for one-hot encoded columns\n",
    "    Season_Spring=('Season_Spring', 'mean'),\n",
    "    Season_Summer=('Season_Summer', 'mean'),\n",
    "    Season_Winter=('Season_Winter', 'mean')\n",
    ").reset_index()\n",
    "\n",
    "# Convert Temperatures to Farenheit\n",
    "\n",
    "daily['Temperature_C'] = (daily['Temperature_C'] * (9/5)) + 32\n",
    "daily['Dew_point_temperature_C'] = (daily['Dew_point_temperature_C'] * (9/5)) + 32\n",
    "\n",
    "# Apply min-max scaling to the columns\n",
    "daily['Visibility_10m_Scaled'] = min_max_scaling(daily['Visibility_10m'])\n",
    "daily['Temperature_C_Scaled'] = min_max_scaling(daily['Temperature_C'])\n",
    "daily['Humidity_percent_Scaled'] = min_max_scaling(daily['Humidity_percent'])\n",
    "daily['Wind_speed_m_s_Scaled'] = min_max_scaling(daily['Wind_speed_m_s'])\n",
    "\n",
    "daily['Rented_Bike_LogScale'] = np.log(daily['Rented_Bike_Count'] + 1)\n",
    "\n",
    "daily.columns"
   ]
  },
  {
   "cell_type": "code",
   "execution_count": 11,
   "metadata": {},
   "outputs": [],
   "source": [
    "daily.to_csv(\"dailyData.csv\")"
   ]
  },
  {
   "cell_type": "code",
   "execution_count": 12,
   "metadata": {},
   "outputs": [
    {
     "name": "stdout",
     "output_type": "stream",
     "text": [
      "Feature number: Index(['Month', 'Day', 'Dew_point_temperature_C', 'Solar_Radiation_MJ_m2',\n",
      "       'Rainfall_mm', 'Snowfall_cm', 'Holiday', 'Functioning_Day',\n",
      "       'Season_Autumn', 'Season_Spring', 'Season_Summer', 'Season_Winter',\n",
      "       'Visibility_10m_Scaled', 'Temperature_C_Scaled',\n",
      "       'Humidity_percent_Scaled', 'Wind_speed_m_s_Scaled'],\n",
      "      dtype='object')\n"
     ]
    }
   ],
   "source": [
    "X_daily = daily.drop(columns=['Rented_Bike_Count', 'Seasons', 'Year', 'Visibility_10m', 'Temperature_C', 'Humidity_percent', 'Wind_speed_m_s', 'Rented_Bike_LogScale'])\n",
    "print(f\"Feature number: {X_daily.columns}\")\n",
    "y_daily = daily['Rented_Bike_LogScale']"
   ]
  },
  {
   "cell_type": "markdown",
   "metadata": {},
   "source": [
    "Setting up Threshold Value"
   ]
  },
  {
   "cell_type": "markdown",
   "metadata": {},
   "source": [
    "Create Dataset Loader Class"
   ]
  },
  {
   "cell_type": "code",
   "execution_count": 13,
   "metadata": {},
   "outputs": [],
   "source": [
    "class BikeRentalData(Dataset):\n",
    "    def __init__(self, features, targets):\n",
    "        self.features = torch.tensor(features.values, dtype=torch.float32)\n",
    "        self.targets = torch.tensor(targets.values, dtype=torch.float32)\n",
    "\n",
    "    def __len__(self):\n",
    "        return len(self.targets)\n",
    "\n",
    "    def __getitem__(self, idx):\n",
    "        return self.features[idx], self.targets[idx]"
   ]
  },
  {
   "cell_type": "markdown",
   "metadata": {},
   "source": [
    "Hourly Datasets"
   ]
  },
  {
   "cell_type": "code",
   "execution_count": 14,
   "metadata": {},
   "outputs": [],
   "source": [
    "# Create Dataset and DataLoader\n",
    "dataset_hourly = BikeRentalData(X_hourly, y_hourly)\n",
    "\n",
    "# Define split sizes\n",
    "train_size = int(0.7 * len(dataset_hourly))  # 70% for training\n",
    "valid_size = int(0.15 * len(dataset_hourly))  # 15% for validation\n",
    "test_size = len(dataset_hourly) - train_size - valid_size  # 15% for testing\n",
    "\n",
    "# Split the dataset\n",
    "train_dataset, valid_dataset, test_dataset = random_split(dataset_hourly, [train_size, valid_size, test_size])\n",
    "\n",
    "# Create DataLoaders for each dataset\n",
    "train_loader_hourly = DataLoader(train_dataset, batch_size=64, shuffle=True)\n",
    "valid_loader_hourly = DataLoader(valid_dataset, batch_size=64, shuffle=False) # Want consistent results, not random\n",
    "test_loader_hourly = DataLoader(test_dataset, batch_size=64, shuffle=False) # Want consistent results, not random"
   ]
  },
  {
   "cell_type": "markdown",
   "metadata": {},
   "source": [
    "Daily Datasets"
   ]
  },
  {
   "cell_type": "code",
   "execution_count": 15,
   "metadata": {},
   "outputs": [],
   "source": [
    "# Create Dataset and DataLoader\n",
    "dataset_daily = BikeRentalData(X_daily, y_daily)\n",
    "\n",
    "# Define split sizes\n",
    "train_size = int(0.7 * len(dataset_daily))  # 70% for training\n",
    "valid_size = int(0.15 * len(dataset_daily))  # 15% for validation\n",
    "test_size = len(dataset_daily) - train_size - valid_size  # 15% for testing\n",
    "\n",
    "# Split the dataset\n",
    "train_dataset, valid_dataset, test_dataset = random_split(dataset_daily, [train_size, valid_size, test_size])\n",
    "\n",
    "# Create DataLoaders for each dataset\n",
    "train_loader_daily = DataLoader(train_dataset, batch_size=3, shuffle=True)\n",
    "valid_loader_daily = DataLoader(valid_dataset, batch_size=3, shuffle=False) # Want consistent results, not random\n",
    "test_loader_daily = DataLoader(test_dataset, batch_size=3, shuffle=False) # Want consistent results, not random"
   ]
  },
  {
   "cell_type": "markdown",
   "metadata": {},
   "source": [
    "Create Training Loop"
   ]
  },
  {
   "cell_type": "code",
   "execution_count": 16,
   "metadata": {},
   "outputs": [],
   "source": [
    "def train_model(model, dataloader, criterion, optimizer, num_epochs=35, device='cuda'):\n",
    "    trainLossValues = []\n",
    "    model.to(device)  # Move model to the specified device\n",
    "    # FOR MODEL TRAINING\n",
    "    model.train()  # Set the model to training mode\n",
    "\n",
    "    for epoch in range(num_epochs): # Epoch training\n",
    "\n",
    "        running_loss = 0.0\n",
    "        for inputs, targets in dataloader:\n",
    "\n",
    "            inputs, targets = inputs.to(device), targets.to(device)  # Move data to the specified device\n",
    "\n",
    "            # Zero the gradients and prevent accumulation of gradients\n",
    "            optimizer.zero_grad()\n",
    "\n",
    "            # Forward pass\n",
    "            outputs = model(inputs)\n",
    "            loss = criterion(outputs, targets)\n",
    "\n",
    "            # Backward pass\n",
    "            loss.backward()\n",
    "            optimizer.step()\n",
    "\n",
    "            # Accumulate loss\n",
    "            running_loss += loss.item()\n",
    "        \n",
    "        # Store the average loss per batch into a list\n",
    "        trainLossValues.append(running_loss/len(dataloader))\n",
    "        # Print average loss for this epoch\n",
    "        print(f\"Epoch [{epoch + 1}/{num_epochs}], Loss: {running_loss / len(dataloader):.4f}\")\n",
    "        \n",
    "    print(f\"Size of Training Set: {len(trainLossValues)}\")\n",
    "    return trainLossValues\n",
    "    \n",
    "# Validation (optional)\n",
    "def validate_model(model, dataloader, criterion, device='cuda'):\n",
    "    model.eval()  # Set the model to evaluation mode\n",
    "\n",
    "    total_loss = 0.0\n",
    "    with torch.no_grad():\n",
    "        for inputs, targets in dataloader:\n",
    "            inputs, targets = inputs.to(device), targets.to(device)  # Move data to the specified device\n",
    "            outputs = model(inputs)\n",
    "            loss = criterion(outputs, targets)\n",
    "            total_loss += loss.item()\n",
    "    print(f\"Length of Validation Data: {len(dataloader)}\")\n",
    "    print(f'Validation Loss: {total_loss / len(dataloader):.4f}')\n",
    "\n",
    "# Testing (optional)\n",
    "def test_model(model, dataloader, device='cuda'):\n",
    "    model.eval()  # Set the model to evaluation mode\n",
    "    all_outputs = []  # List to store outputs\n",
    "    all_targets = []  # List to store targets\n",
    "\n",
    "    with torch.no_grad():\n",
    "        for inputs, targets in dataloader:\n",
    "            inputs = inputs.to(device)  # Move data to the specified device\n",
    "            outputs = model(inputs)\n",
    "\n",
    "            # Store outputs and targets\n",
    "            all_outputs.append(outputs.cpu())  # Move outputs to CPU and append\n",
    "            all_targets.append(targets.cpu())  # Move targets to CPU and append\n",
    "\n",
    "            #print(f'Inputs: {inputs.cpu().numpy()}, Predicted: {outputs.cpu().numpy()}, Targets: {targets.cpu().numpy()}')\n",
    "\n",
    "    # Concatenate all outputs and targets\n",
    "    all_outputs = torch.cat(all_outputs).numpy()  # Convert to NumPy array\n",
    "    all_targets = torch.cat(all_targets).numpy()  # Convert to NumPy array\n",
    "\n",
    "    all_outputs_reverted = np.exp(all_outputs) - 1\n",
    "    all_targets_reverted = np.exp(all_targets) - 1\n",
    "    \n",
    "    mse_loss_pytorch = mean_absolute_error(all_outputs_reverted, all_targets_reverted)\n",
    "\n",
    "    # Here you can add code to evaluate your model's predictions\n",
    "    print(f\"Output Values from Test Data: {[i for i in all_outputs][0:5]}\")\n",
    "    print(f\"Output Values from Actual Data: {[i for i in all_targets][0:5]}\")\n",
    "    print(f\"Accuracy: {mse_loss_pytorch} for daily loss of rescaled values\")\n",
    "\n"
   ]
  },
  {
   "cell_type": "markdown",
   "metadata": {},
   "source": [
    "# *Deep Neural Network Regression Model Architecture*"
   ]
  },
  {
   "cell_type": "markdown",
   "metadata": {},
   "source": [
    "\n",
    "Flow:\n",
    "\n",
    "    - Train on many hours worth of data(Amount of bike rentals) given inputs like hour\n",
    "\n",
    "    - Test how regression works when given a certain hour"
   ]
  },
  {
   "cell_type": "code",
   "execution_count": 115,
   "metadata": {},
   "outputs": [
    {
     "name": "stdout",
     "output_type": "stream",
     "text": [
      "RentalDNNRegression(\n",
      "  (lin1): Linear(in_features=16, out_features=512, bias=True)\n",
      "  (batch1): BatchNorm1d(512, eps=1e-05, momentum=0.1, affine=True, track_running_stats=True)\n",
      "  (lin2): Linear(in_features=512, out_features=256, bias=True)\n",
      "  (batch2): BatchNorm1d(256, eps=1e-05, momentum=0.1, affine=True, track_running_stats=True)\n",
      "  (lin3): Linear(in_features=256, out_features=256, bias=True)\n",
      "  (batch3): BatchNorm1d(256, eps=1e-05, momentum=0.1, affine=True, track_running_stats=True)\n",
      "  (lin4): Linear(in_features=256, out_features=128, bias=True)\n",
      "  (batch4): BatchNorm1d(128, eps=1e-05, momentum=0.1, affine=True, track_running_stats=True)\n",
      "  (lin5): Linear(in_features=128, out_features=64, bias=True)\n",
      "  (batch5): BatchNorm1d(64, eps=1e-05, momentum=0.1, affine=True, track_running_stats=True)\n",
      "  (lin6): Linear(in_features=64, out_features=16, bias=True)\n",
      "  (batch6): BatchNorm1d(16, eps=1e-05, momentum=0.1, affine=True, track_running_stats=True)\n",
      "  (out): Linear(in_features=16, out_features=1, bias=True)\n",
      ")\n"
     ]
    }
   ],
   "source": [
    "BATC_SIZEH_SIZE = 16\n",
    "DIM_IN = 16\n",
    "DIM_OUT = 1\n",
    "\n",
    "class RentalDNNRegression(nn.Module):\n",
    "    \n",
    "    def __init__(self):\n",
    "        super(RentalDNNRegression, self).__init__()\n",
    "        # Creating Layers\n",
    "\n",
    "        # First Layer\n",
    "        self.lin1 = nn.Linear(DIM_IN, 512)\n",
    "        self.batch1 = nn.BatchNorm1d(512)\n",
    "        #self.drop1 = nn.Dropout(0.45)\n",
    "\n",
    "        # Second Layer\n",
    "        self.lin2 = nn.Linear(512, 256)\n",
    "        self.batch2 = nn.BatchNorm1d(256)\n",
    "        #self.drop2 = nn.Dropout(0.25)\n",
    "\n",
    "\n",
    "        # Third Layer\n",
    "        self.lin3 = nn.Linear(256, 256)\n",
    "        self.batch3 = nn.BatchNorm1d(256)\n",
    "        #self.drop3 = nn.Dropout(0.25)\n",
    "\n",
    "        # Fourth Layer\n",
    "        self.lin4 = nn.Linear(256, 128)\n",
    "        self.batch4 = nn.BatchNorm1d(128)\n",
    "        #self.drop4 = nn.Dropout(0.2)\n",
    "\n",
    "        # Fifth Layer\n",
    "        self.lin5 = nn.Linear(128, 64)\n",
    "        self.batch5 = nn.BatchNorm1d(64)\n",
    "        #self.drop5 = nn.Dropout(0.2)\n",
    "\n",
    "        # Sixth Layer\n",
    "        self.lin6 = nn.Linear(64, 16)\n",
    "        self.batch6 = nn.BatchNorm1d(16)\n",
    "\n",
    "        # Output Layer\n",
    "        self.out = nn.Linear(16, DIM_OUT)\n",
    "        \n",
    "    def forward(self, x):\n",
    "        # Apply Batch Normalization\n",
    "        #x = self.batch1(x)  # Apply batch normalization\n",
    "        x = F.relu(self.lin1(x))\n",
    "        x = self.batch1(x)\n",
    "        #x = self.drop1(x)\n",
    "\n",
    "        x = F.relu(self.lin2(x))\n",
    "        x = self.batch2(x)\n",
    "        #x = self.drop2(x)\n",
    "\n",
    "        x = F.relu(self.lin3(x))\n",
    "        x = self.batch3(x)\n",
    "        #x = self.drop3(x)\n",
    "\n",
    "        x = F.relu(self.lin4(x))\n",
    "        x = self.batch4(x)\n",
    "        #x = self.drop4(x)\n",
    "\n",
    "        x = F.relu(self.lin5(x))\n",
    "        x = self.batch5(x)\n",
    "        #x = self.drop5(x)\n",
    "\n",
    "        x = F.relu(self.lin6(x))\n",
    "        x = self.batch6(x)\n",
    "\n",
    "        x = self.out(x) # Call the final layer\n",
    "\n",
    "        return x\n",
    "    \n",
    "# Instantiating Model \"object\"\n",
    "rentalMLPReg = RentalDNNRegression()\n",
    "\n",
    "# Moving model to GPU memory if available\n",
    "gpu_device = 'cuda' if torch.cuda.is_available() else 'cpu'\n",
    "rentalMLPReg.to(gpu_device)\n",
    "\n",
    "# Loss Function Criterion\n",
    "criterion = nn.MSELoss()\n",
    "\n",
    "# Optimizer Instantiatio6\n",
    "optimizer = optim.Adadelta(params=rentalMLPReg.parameters(), lr=0.02)\n",
    "\n",
    "print(rentalMLPReg)"
   ]
  },
  {
   "cell_type": "markdown",
   "metadata": {},
   "source": [
    "Train the Model??"
   ]
  },
  {
   "cell_type": "code",
   "execution_count": 116,
   "metadata": {},
   "outputs": [
    {
     "name": "stderr",
     "output_type": "stream",
     "text": [
      "c:\\Users\\lordw\\OneDrive\\Documents\\Python_Master\\Coding_Projects\\BikingAnalytics\\venv\\Lib\\site-packages\\torch\\nn\\modules\\loss.py:538: UserWarning: Using a target size (torch.Size([3])) that is different to the input size (torch.Size([3, 1])). This will likely lead to incorrect results due to broadcasting. Please ensure they have the same size.\n",
      "  return F.mse_loss(input, target, reduction=self.reduction)\n"
     ]
    },
    {
     "name": "stdout",
     "output_type": "stream",
     "text": [
      "Epoch [1/100], Loss: 90.3003\n",
      "Epoch [2/100], Loss: 89.9843\n",
      "Epoch [3/100], Loss: 89.5688\n",
      "Epoch [4/100], Loss: 89.1313\n",
      "Epoch [5/100], Loss: 88.5040\n",
      "Epoch [6/100], Loss: 87.8628\n",
      "Epoch [7/100], Loss: 87.0036\n",
      "Epoch [8/100], Loss: 85.7817\n",
      "Epoch [9/100], Loss: 83.9866\n",
      "Epoch [10/100], Loss: 81.2487\n",
      "Epoch [11/100], Loss: 76.8196\n",
      "Epoch [12/100], Loss: 69.9893\n",
      "Epoch [13/100], Loss: 59.9862\n",
      "Epoch [14/100], Loss: 47.4716\n",
      "Epoch [15/100], Loss: 33.9166\n",
      "Epoch [16/100], Loss: 22.0599\n",
      "Epoch [17/100], Loss: 14.0487\n",
      "Epoch [18/100], Loss: 9.1592\n",
      "Epoch [19/100], Loss: 6.9162\n",
      "Epoch [20/100], Loss: 5.8624\n",
      "Epoch [21/100], Loss: 5.2217\n",
      "Epoch [22/100], Loss: 5.3329\n",
      "Epoch [23/100], Loss: 4.7548\n",
      "Epoch [24/100], Loss: 5.0263\n",
      "Epoch [25/100], Loss: 4.4829\n",
      "Epoch [26/100], Loss: 4.7686\n",
      "Epoch [27/100], Loss: 4.4894\n",
      "Epoch [28/100], Loss: 4.6692\n",
      "Epoch [29/100], Loss: 4.4157\n",
      "Epoch [30/100], Loss: 4.2449\n",
      "Epoch [31/100], Loss: 4.3457\n",
      "Epoch [32/100], Loss: 4.2935\n",
      "Epoch [33/100], Loss: 4.3835\n",
      "Epoch [34/100], Loss: 4.2375\n",
      "Epoch [35/100], Loss: 4.2559\n",
      "Epoch [36/100], Loss: 4.2884\n",
      "Epoch [37/100], Loss: 4.1887\n",
      "Epoch [38/100], Loss: 4.0874\n",
      "Epoch [39/100], Loss: 4.1240\n",
      "Epoch [40/100], Loss: 4.1799\n",
      "Epoch [41/100], Loss: 4.1115\n",
      "Epoch [42/100], Loss: 4.1423\n",
      "Epoch [43/100], Loss: 4.0883\n",
      "Epoch [44/100], Loss: 4.0835\n",
      "Epoch [45/100], Loss: 4.1306\n",
      "Epoch [46/100], Loss: 3.9926\n",
      "Epoch [47/100], Loss: 4.0843\n",
      "Epoch [48/100], Loss: 4.0160\n",
      "Epoch [49/100], Loss: 4.1053\n",
      "Epoch [50/100], Loss: 3.9754\n",
      "Epoch [51/100], Loss: 3.9901\n",
      "Epoch [52/100], Loss: 4.0491\n",
      "Epoch [53/100], Loss: 3.9487\n",
      "Epoch [54/100], Loss: 3.9565\n",
      "Epoch [55/100], Loss: 3.9748\n",
      "Epoch [56/100], Loss: 4.0009\n",
      "Epoch [57/100], Loss: 3.9129\n",
      "Epoch [58/100], Loss: 3.8814\n",
      "Epoch [59/100], Loss: 3.9568\n",
      "Epoch [60/100], Loss: 3.9011\n",
      "Epoch [61/100], Loss: 3.8769\n",
      "Epoch [62/100], Loss: 3.9414\n",
      "Epoch [63/100], Loss: 3.9244\n",
      "Epoch [64/100], Loss: 3.9084\n",
      "Epoch [65/100], Loss: 3.8609\n",
      "Epoch [66/100], Loss: 3.8983\n",
      "Epoch [67/100], Loss: 3.9051\n",
      "Epoch [68/100], Loss: 3.9085\n",
      "Epoch [69/100], Loss: 3.8605\n",
      "Epoch [70/100], Loss: 3.8682\n",
      "Epoch [71/100], Loss: 3.8574\n",
      "Epoch [72/100], Loss: 3.9225\n",
      "Epoch [73/100], Loss: 3.8288\n",
      "Epoch [74/100], Loss: 3.9038\n",
      "Epoch [75/100], Loss: 3.8123\n",
      "Epoch [76/100], Loss: 3.8076\n",
      "Epoch [77/100], Loss: 3.8486\n",
      "Epoch [78/100], Loss: 3.8371\n",
      "Epoch [79/100], Loss: 3.8466\n",
      "Epoch [80/100], Loss: 3.8577\n",
      "Epoch [81/100], Loss: 3.8356\n",
      "Epoch [82/100], Loss: 3.8383\n",
      "Epoch [83/100], Loss: 3.8321\n",
      "Epoch [84/100], Loss: 3.7985\n",
      "Epoch [85/100], Loss: 3.8136\n",
      "Epoch [86/100], Loss: 3.7905\n",
      "Epoch [87/100], Loss: 3.8139\n",
      "Epoch [88/100], Loss: 3.7647\n",
      "Epoch [89/100], Loss: 3.8092\n",
      "Epoch [90/100], Loss: 3.8439\n",
      "Epoch [91/100], Loss: 3.7837\n",
      "Epoch [92/100], Loss: 3.7802\n",
      "Epoch [93/100], Loss: 3.8590\n",
      "Epoch [94/100], Loss: 3.8176\n",
      "Epoch [95/100], Loss: 3.7768\n",
      "Epoch [96/100], Loss: 3.8016\n",
      "Epoch [97/100], Loss: 3.8146\n",
      "Epoch [98/100], Loss: 3.7450\n",
      "Epoch [99/100], Loss: 3.7723\n",
      "Epoch [100/100], Loss: 3.7944\n",
      "Size of Training Set: 100\n"
     ]
    }
   ],
   "source": [
    "trainLossValuesDaily = train_model(rentalMLPReg, train_loader_daily, criterion, optimizer, num_epochs=100, device=gpu_device)"
   ]
  },
  {
   "cell_type": "code",
   "execution_count": 117,
   "metadata": {},
   "outputs": [
    {
     "data": {
      "image/png": "[encoded data removed]",
      "text/plain": [
       "<Figure size 1000x500 with 1 Axes>"
      ]
     },
     "metadata": {},
     "output_type": "display_data"
    }
   ],
   "source": [
    "# Plotting out Training Loss\n",
    "\n",
    "batch_indices = np.arange(1, len(trainLossValuesDaily) + 1)\n",
    "\n",
    "# Create the plot\n",
    "plt.figure(figsize=(10, 5))\n",
    "plt.plot(batch_indices, trainLossValuesDaily, marker='o', linestyle='-', color='b')\n",
    "plt.title('Average Loss per Batch')\n",
    "plt.xlabel('Batch Number')\n",
    "plt.ylabel('Average Loss')\n",
    "plt.grid()\n",
    "plt.xticks(batch_indices)  # Optional: Show all batch numbers on the x-axis\n",
    "plt.show()"
   ]
  },
  {
   "cell_type": "markdown",
   "metadata": {},
   "source": [
    "This isn't really model convergence because it looks like the model is getting a steep drop-off in loss, and then begins to oscillate."
   ]
  },
  {
   "cell_type": "code",
   "execution_count": 119,
   "metadata": {},
   "outputs": [
    {
     "name": "stdout",
     "output_type": "stream",
     "text": [
      "Output Values from Test Data: [array([9.331313], dtype=float32), array([-6.0825806], dtype=float32), array([9.060312], dtype=float32), array([9.424912], dtype=float32), array([9.456573], dtype=float32)]\n",
      "Output Values from Actual Data: [10.277049, 8.277158, 10.356091, 8.138565, 9.750511]\n",
      "Accuracy: 11143.15625 for daily loss of rescaled values\n",
      "Length of Validation Data: 18\n",
      "Validation Loss: 4.0410\n"
     ]
    },
    {
     "name": "stderr",
     "output_type": "stream",
     "text": [
      "c:\\Users\\lordw\\OneDrive\\Documents\\Python_Master\\Coding_Projects\\BikingAnalytics\\venv\\Lib\\site-packages\\torch\\nn\\modules\\loss.py:538: UserWarning: Using a target size (torch.Size([3])) that is different to the input size (torch.Size([3, 1])). This will likely lead to incorrect results due to broadcasting. Please ensure they have the same size.\n",
      "  return F.mse_loss(input, target, reduction=self.reduction)\n"
     ]
    }
   ],
   "source": [
    "test_model(rentalMLPReg, test_loader_daily, device=gpu_device)\n",
    "validate_model(rentalMLPReg, valid_loader_daily, criterion, device=gpu_device)\n"
   ]
  },
  {
   "cell_type": "markdown",
   "metadata": {},
   "source": [
    "# *Scikit-Learn Regression Model Architectures*"
   ]
  },
  {
   "cell_type": "markdown",
   "metadata": {},
   "source": [
    "Splitting Data into test train sets"
   ]
  },
  {
   "cell_type": "code",
   "execution_count": 18,
   "metadata": {},
   "outputs": [],
   "source": [
    "X_train, X_test, y_train, y_test = train_test_split(X_daily, y_daily, test_size=0.2)"
   ]
  },
  {
   "cell_type": "markdown",
   "metadata": {},
   "source": [
    "Lasso ML Model"
   ]
  },
  {
   "cell_type": "code",
   "execution_count": 19,
   "metadata": {},
   "outputs": [
    {
     "name": "stdout",
     "output_type": "stream",
     "text": [
      "Average accuracy with a threshold value for LASSO REGRESSION: 0.547945205479452\n",
      "Log Scaled Accuracy\n"
     ]
    }
   ],
   "source": [
    "lasso = Lasso()\n",
    "\n",
    "lasso.fit(X_train, y_train)\n",
    "\n",
    "y_pred_lasso = lasso.predict(X_test)\n",
    "\n",
    "matchingAvgLasso = np.mean(np.abs(y_pred_lasso - y_test) <= 0.7)\n",
    "\n",
    "print(f\"Average accuracy with a threshold value for LASSO REGRESSION: {matchingAvgLasso}\")\n",
    "print(\"Log Scaled Accuracy\")"
   ]
  },
  {
   "cell_type": "markdown",
   "metadata": {},
   "source": [
    "Time to Cross Validate Linear Regression, Decision Tree Regessor, Random Forest Regressor models."
   ]
  },
  {
   "cell_type": "code",
   "execution_count": 20,
   "metadata": {},
   "outputs": [],
   "source": [
    "models = {\n",
    "    'Linear Regression': LinearRegression(),\n",
    "    'Random Forest': RandomForestRegressor(n_estimators=100, random_state=42),\n",
    "    'Decision Tree': DecisionTreeRegressor(random_state=42)\n",
    "}"
   ]
  },
  {
   "cell_type": "code",
   "execution_count": 21,
   "metadata": {},
   "outputs": [
    {
     "name": "stdout",
     "output_type": "stream",
     "text": [
      "                    Linear Regression  Random Forest  Decision Tree\n",
      "Mean Squared Error           0.082543       0.059332       0.137617\n"
     ]
    }
   ],
   "source": [
    "results = {}\n",
    "for name, model in models.items():\n",
    "    scores = cross_val_score(model, X_train, y_train, cv=5, scoring='neg_mean_squared_error')\n",
    "    results[name] = -scores.mean()  # Negate to get MSE\n",
    "\n",
    "results_df = pd.DataFrame(results, index=['Mean Squared Error'])\n",
    "print(results_df)"
   ]
  },
  {
   "cell_type": "markdown",
   "metadata": {},
   "source": [
    "We understand that generally the best model is Linear Regression followed by Decision Tree and then Random Forest"
   ]
  },
  {
   "cell_type": "code",
   "execution_count": 22,
   "metadata": {},
   "outputs": [
    {
     "name": "stdout",
     "output_type": "stream",
     "text": [
      "Model: Linear Regression\n",
      "MAE loss: 3603.4120629136282\n",
      "RMSE loss: 5178.340951019093\n",
      "MSE loss: 26815215.00500133\n",
      "Model: Random Forest\n",
      "MAE loss: 2222.2218720544706\n",
      "RMSE loss: 3183.779960568651\n",
      "MSE loss: 10136454.837318521\n",
      "Model: Decision Tree\n",
      "MAE loss: 3319.342465753426\n",
      "RMSE loss: 4792.885875305049\n",
      "MSE loss: 22971755.013698645\n"
     ]
    },
    {
     "data": {
      "image/png": "[encoded data removed]",
      "text/plain": [
       "<Figure size 1200x1200 with 1 Axes>"
      ]
     },
     "metadata": {},
     "output_type": "display_data"
    }
   ],
   "source": [
    "results = {}\n",
    "plt.figure(figsize=(12, len(models) * 4))  # Create a figure with a specified size\n",
    "\n",
    "for i, (name, model) in enumerate(models.items()):\n",
    "    model.fit(X_train, y_train)\n",
    "    y_pred = model.predict(X_test)\n",
    "    mse = mean_squared_error(y_test, y_pred)\n",
    "    results[name] = mse  # Store MSE for predictions on the test set\n",
    "\n",
    "    # Convert back to original scale (if needed for other calculations)\n",
    "    recovered_y_test = np.exp(y_test) - 1\n",
    "    recovered_y_pred = np.exp(y_pred) - 1\n",
    "    \n",
    "    # Calculate mean squared error on the original predictions\n",
    "    reverted_mae = mean_absolute_error(recovered_y_pred, recovered_y_test)\n",
    "    reverted_rmse = root_mean_squared_error(recovered_y_pred, recovered_y_test)\n",
    "    reverted_mse = mean_squared_error(recovered_y_pred, recovered_y_test)\n",
    "\n",
    "    # Store MSE for predictions on the test set\n",
    "    results[name] = mse  # Store MSE\n",
    "    \n",
    "    # Display the original and recovered values for inspection (optional)\n",
    "    print(f\"Model: {name}\")\n",
    "    #print(\"Recovered y_test:\", [i for i in recovered_y_test][0:50])\n",
    "    #print(\"Recovered y_pred:\", [j for j in recovered_y_pred][0:50])\n",
    "    print(f\"MAE loss: {reverted_mae}\")\n",
    "    print(f\"RMSE loss: {reverted_rmse}\")\n",
    "    print(f\"MSE loss: {reverted_mse}\")\n",
    "\n",
    "\n",
    "    # Save the model\n",
    "    #joblib.dump(model, f'{name}_model.joblib')  # Save the model to a file\n",
    "\n",
    "\n",
    "    plt.subplot(len(models), 1,  + 1)  # Create a subplot for each model\n",
    "    plt.scatter(recovered_y_pred, recovered_y_pred - recovered_y_test, alpha=0.7)\n",
    "    plt.axhline(y=0, color='r', linestyle='--')  # Add a horizontal line at 0\n",
    "    plt.title(f'Residual Plot for {name}')\n",
    "    plt.xlabel('Predicted Values')\n",
    "    plt.ylabel('Residuals')\n",
    "    plt.grid()\n",
    "\n"
   ]
  },
  {
   "cell_type": "markdown",
   "metadata": {},
   "source": [
    "Really good predictions because I took a hourly dataset and got to a average of "
   ]
  },
  {
   "cell_type": "markdown",
   "metadata": {},
   "source": [
    "# *Hourly ML Model*"
   ]
  },
  {
   "cell_type": "markdown",
   "metadata": {},
   "source": [
    "Splitting Data"
   ]
  },
  {
   "cell_type": "code",
   "execution_count": 65,
   "metadata": {},
   "outputs": [
    {
     "data": {
      "text/plain": [
       "5614    1346\n",
       "4360    1550\n",
       "721       43\n",
       "4958    1016\n",
       "1125     342\n",
       "        ... \n",
       "1488     122\n",
       "935      112\n",
       "8247       0\n",
       "4670    2088\n",
       "4658     847\n",
       "Name: Rented Bike Count, Length: 876, dtype: int64"
      ]
     },
     "execution_count": 65,
     "metadata": {},
     "output_type": "execute_result"
    }
   ],
   "source": [
    "X_trainH, X_testH, y_trainH, y_testH = train_test_split(X_hourly, y_hourly, test_size=0.1)\n",
    "y_testH"
   ]
  },
  {
   "cell_type": "markdown",
   "metadata": {},
   "source": [
    "XGBoost Model"
   ]
  },
  {
   "cell_type": "code",
   "execution_count": 105,
   "metadata": {},
   "outputs": [
    {
     "name": "stderr",
     "output_type": "stream",
     "text": [
      "c:\\Users\\lordw\\OneDrive\\Documents\\Python_Master\\Coding_Projects\\BikingAnalytics\\venv\\Lib\\site-packages\\xgboost\\core.py:158: UserWarning: [17:41:36] WARNING: C:\\buildkite-agent\\builds\\buildkite-windows-cpu-autoscaling-group-i-0015a694724fa8361-1\\xgboost\\xgboost-ci-windows\\src\\common\\error_msg.cc:27: The tree method `gpu_hist` is deprecated since 2.0.0. To use GPU training, set the `device` parameter to CUDA instead.\n",
      "\n",
      "    E.g. tree_method = \"hist\", device = \"cuda\"\n",
      "\n",
      "  warnings.warn(smsg, UserWarning)\n"
     ]
    },
    {
     "data": {
      "text/html": [
       "<style>#sk-container-id-19 {\n",
       "  /* Definition of color scheme common for light and dark mode */\n",
       "  --sklearn-color-text: black;\n",
       "  --sklearn-color-line: gray;\n",
       "  /* Definition of color scheme for unfitted estimators */\n",
       "  --sklearn-color-unfitted-level-0: #fff5e6;\n",
       "  --sklearn-color-unfitted-level-1: #f6e4d2;\n",
       "  --sklearn-color-unfitted-level-2: #ffe0b3;\n",
       "  --sklearn-color-unfitted-level-3: chocolate;\n",
       "  /* Definition of color scheme for fitted estimators */\n",
       "  --sklearn-color-fitted-level-0: #f0f8ff;\n",
       "  --sklearn-color-fitted-level-1: #d4ebff;\n",
       "  --sklearn-color-fitted-level-2: #b3dbfd;\n",
       "  --sklearn-color-fitted-level-3: cornflowerblue;\n",
       "\n",
       "  /* Specific color for light theme */\n",
       "  --sklearn-color-text-on-default-background: var(--sg-text-color, var(--theme-code-foreground, var(--jp-content-font-color1, black)));\n",
       "  --sklearn-color-background: var(--sg-background-color, var(--theme-background, var(--jp-layout-color0, white)));\n",
       "  --sklearn-color-border-box: var(--sg-text-color, var(--theme-code-foreground, var(--jp-content-font-color1, black)));\n",
       "  --sklearn-color-icon: #696969;\n",
       "\n",
       "  @media (prefers-color-scheme: dark) {\n",
       "    /* Redefinition of color scheme for dark theme */\n",
       "    --sklearn-color-text-on-default-background: var(--sg-text-color, var(--theme-code-foreground, var(--jp-content-font-color1, white)));\n",
       "    --sklearn-color-background: var(--sg-background-color, var(--theme-background, var(--jp-layout-color0, #111)));\n",
       "    --sklearn-color-border-box: var(--sg-text-color, var(--theme-code-foreground, var(--jp-content-font-color1, white)));\n",
       "    --sklearn-color-icon: #878787;\n",
       "  }\n",
       "}\n",
       "\n",
       "#sk-container-id-19 {\n",
       "  color: var(--sklearn-color-text);\n",
       "}\n",
       "\n",
       "#sk-container-id-19 pre {\n",
       "  padding: 0;\n",
       "}\n",
       "\n",
       "#sk-container-id-19 input.sk-hidden--visually {\n",
       "  border: 0;\n",
       "  clip: rect(1px 1px 1px 1px);\n",
       "  clip: rect(1px, 1px, 1px, 1px);\n",
       "  height: 1px;\n",
       "  margin: -1px;\n",
       "  overflow: hidden;\n",
       "  padding: 0;\n",
       "  position: absolute;\n",
       "  width: 1px;\n",
       "}\n",
       "\n",
       "#sk-container-id-19 div.sk-dashed-wrapped {\n",
       "  border: 1px dashed var(--sklearn-color-line);\n",
       "  margin: 0 0.4em 0.5em 0.4em;\n",
       "  box-sizing: border-box;\n",
       "  padding-bottom: 0.4em;\n",
       "  background-color: var(--sklearn-color-background);\n",
       "}\n",
       "\n",
       "#sk-container-id-19 div.sk-container {\n",
       "  /* jupyter's `normalize.less` sets `[hidden] { display: none; }`\n",
       "     but bootstrap.min.css set `[hidden] { display: none !important; }`\n",
       "     so we also need the `!important` here to be able to override the\n",
       "     default hidden behavior on the sphinx rendered scikit-learn.org.\n",
       "     See: https://github.com/scikit-learn/scikit-learn/issues/21755 */\n",
       "  display: inline-block !important;\n",
       "  position: relative;\n",
       "}\n",
       "\n",
       "#sk-container-id-19 div.sk-text-repr-fallback {\n",
       "  display: none;\n",
       "}\n",
       "\n",
       "div.sk-parallel-item,\n",
       "div.sk-serial,\n",
       "div.sk-item {\n",
       "  /* draw centered vertical line to link estimators */\n",
       "  background-image: linear-gradient(var(--sklearn-color-text-on-default-background), var(--sklearn-color-text-on-default-background));\n",
       "  background-size: 2px 100%;\n",
       "  background-repeat: no-repeat;\n",
       "  background-position: center center;\n",
       "}\n",
       "\n",
       "/* Parallel-specific style estimator block */\n",
       "\n",
       "#sk-container-id-19 div.sk-parallel-item::after {\n",
       "  content: \"\";\n",
       "  width: 100%;\n",
       "  border-bottom: 2px solid var(--sklearn-color-text-on-default-background);\n",
       "  flex-grow: 1;\n",
       "}\n",
       "\n",
       "#sk-container-id-19 div.sk-parallel {\n",
       "  display: flex;\n",
       "  align-items: stretch;\n",
       "  justify-content: center;\n",
       "  background-color: var(--sklearn-color-background);\n",
       "  position: relative;\n",
       "}\n",
       "\n",
       "#sk-container-id-19 div.sk-parallel-item {\n",
       "  display: flex;\n",
       "  flex-direction: column;\n",
       "}\n",
       "\n",
       "#sk-container-id-19 div.sk-parallel-item:first-child::after {\n",
       "  align-self: flex-end;\n",
       "  width: 50%;\n",
       "}\n",
       "\n",
       "#sk-container-id-19 div.sk-parallel-item:last-child::after {\n",
       "  align-self: flex-start;\n",
       "  width: 50%;\n",
       "}\n",
       "\n",
       "#sk-container-id-19 div.sk-parallel-item:only-child::after {\n",
       "  width: 0;\n",
       "}\n",
       "\n",
       "/* Serial-specific style estimator block */\n",
       "\n",
       "#sk-container-id-19 div.sk-serial {\n",
       "  display: flex;\n",
       "  flex-direction: column;\n",
       "  align-items: center;\n",
       "  background-color: var(--sklearn-color-background);\n",
       "  padding-right: 1em;\n",
       "  padding-left: 1em;\n",
       "}\n",
       "\n",
       "\n",
       "/* Toggleable style: style used for estimator/Pipeline/ColumnTransformer box that is\n",
       "clickable and can be expanded/collapsed.\n",
       "- Pipeline and ColumnTransformer use this feature and define the default style\n",
       "- Estimators will overwrite some part of the style using the `sk-estimator` class\n",
       "*/\n",
       "\n",
       "/* Pipeline and ColumnTransformer style (default) */\n",
       "\n",
       "#sk-container-id-19 div.sk-toggleable {\n",
       "  /* Default theme specific background. It is overwritten whether we have a\n",
       "  specific estimator or a Pipeline/ColumnTransformer */\n",
       "  background-color: var(--sklearn-color-background);\n",
       "}\n",
       "\n",
       "/* Toggleable label */\n",
       "#sk-container-id-19 label.sk-toggleable__label {\n",
       "  cursor: pointer;\n",
       "  display: block;\n",
       "  width: 100%;\n",
       "  margin-bottom: 0;\n",
       "  padding: 0.5em;\n",
       "  box-sizing: border-box;\n",
       "  text-align: center;\n",
       "}\n",
       "\n",
       "#sk-container-id-19 label.sk-toggleable__label-arrow:before {\n",
       "  /* Arrow on the left of the label */\n",
       "  content: \"▸\";\n",
       "  float: left;\n",
       "  margin-right: 0.25em;\n",
       "  color: var(--sklearn-color-icon);\n",
       "}\n",
       "\n",
       "#sk-container-id-19 label.sk-toggleable__label-arrow:hover:before {\n",
       "  color: var(--sklearn-color-text);\n",
       "}\n",
       "\n",
       "/* Toggleable content - dropdown */\n",
       "\n",
       "#sk-container-id-19 div.sk-toggleable__content {\n",
       "  max-height: 0;\n",
       "  max-width: 0;\n",
       "  overflow: hidden;\n",
       "  text-align: left;\n",
       "  /* unfitted */\n",
       "  background-color: var(--sklearn-color-unfitted-level-0);\n",
       "}\n",
       "\n",
       "#sk-container-id-19 div.sk-toggleable__content.fitted {\n",
       "  /* fitted */\n",
       "  background-color: var(--sklearn-color-fitted-level-0);\n",
       "}\n",
       "\n",
       "#sk-container-id-19 div.sk-toggleable__content pre {\n",
       "  margin: 0.2em;\n",
       "  border-radius: 0.25em;\n",
       "  color: var(--sklearn-color-text);\n",
       "  /* unfitted */\n",
       "  background-color: var(--sklearn-color-unfitted-level-0);\n",
       "}\n",
       "\n",
       "#sk-container-id-19 div.sk-toggleable__content.fitted pre {\n",
       "  /* unfitted */\n",
       "  background-color: var(--sklearn-color-fitted-level-0);\n",
       "}\n",
       "\n",
       "#sk-container-id-19 input.sk-toggleable__control:checked~div.sk-toggleable__content {\n",
       "  /* Expand drop-down */\n",
       "  max-height: 200px;\n",
       "  max-width: 100%;\n",
       "  overflow: auto;\n",
       "}\n",
       "\n",
       "#sk-container-id-19 input.sk-toggleable__control:checked~label.sk-toggleable__label-arrow:before {\n",
       "  content: \"▾\";\n",
       "}\n",
       "\n",
       "/* Pipeline/ColumnTransformer-specific style */\n",
       "\n",
       "#sk-container-id-19 div.sk-label input.sk-toggleable__control:checked~label.sk-toggleable__label {\n",
       "  color: var(--sklearn-color-text);\n",
       "  background-color: var(--sklearn-color-unfitted-level-2);\n",
       "}\n",
       "\n",
       "#sk-container-id-19 div.sk-label.fitted input.sk-toggleable__control:checked~label.sk-toggleable__label {\n",
       "  background-color: var(--sklearn-color-fitted-level-2);\n",
       "}\n",
       "\n",
       "/* Estimator-specific style */\n",
       "\n",
       "/* Colorize estimator box */\n",
       "#sk-container-id-19 div.sk-estimator input.sk-toggleable__control:checked~label.sk-toggleable__label {\n",
       "  /* unfitted */\n",
       "  background-color: var(--sklearn-color-unfitted-level-2);\n",
       "}\n",
       "\n",
       "#sk-container-id-19 div.sk-estimator.fitted input.sk-toggleable__control:checked~label.sk-toggleable__label {\n",
       "  /* fitted */\n",
       "  background-color: var(--sklearn-color-fitted-level-2);\n",
       "}\n",
       "\n",
       "#sk-container-id-19 div.sk-label label.sk-toggleable__label,\n",
       "#sk-container-id-19 div.sk-label label {\n",
       "  /* The background is the default theme color */\n",
       "  color: var(--sklearn-color-text-on-default-background);\n",
       "}\n",
       "\n",
       "/* On hover, darken the color of the background */\n",
       "#sk-container-id-19 div.sk-label:hover label.sk-toggleable__label {\n",
       "  color: var(--sklearn-color-text);\n",
       "  background-color: var(--sklearn-color-unfitted-level-2);\n",
       "}\n",
       "\n",
       "/* Label box, darken color on hover, fitted */\n",
       "#sk-container-id-19 div.sk-label.fitted:hover label.sk-toggleable__label.fitted {\n",
       "  color: var(--sklearn-color-text);\n",
       "  background-color: var(--sklearn-color-fitted-level-2);\n",
       "}\n",
       "\n",
       "/* Estimator label */\n",
       "\n",
       "#sk-container-id-19 div.sk-label label {\n",
       "  font-family: monospace;\n",
       "  font-weight: bold;\n",
       "  display: inline-block;\n",
       "  line-height: 1.2em;\n",
       "}\n",
       "\n",
       "#sk-container-id-19 div.sk-label-container {\n",
       "  text-align: center;\n",
       "}\n",
       "\n",
       "/* Estimator-specific */\n",
       "#sk-container-id-19 div.sk-estimator {\n",
       "  font-family: monospace;\n",
       "  border: 1px dotted var(--sklearn-color-border-box);\n",
       "  border-radius: 0.25em;\n",
       "  box-sizing: border-box;\n",
       "  margin-bottom: 0.5em;\n",
       "  /* unfitted */\n",
       "  background-color: var(--sklearn-color-unfitted-level-0);\n",
       "}\n",
       "\n",
       "#sk-container-id-19 div.sk-estimator.fitted {\n",
       "  /* fitted */\n",
       "  background-color: var(--sklearn-color-fitted-level-0);\n",
       "}\n",
       "\n",
       "/* on hover */\n",
       "#sk-container-id-19 div.sk-estimator:hover {\n",
       "  /* unfitted */\n",
       "  background-color: var(--sklearn-color-unfitted-level-2);\n",
       "}\n",
       "\n",
       "#sk-container-id-19 div.sk-estimator.fitted:hover {\n",
       "  /* fitted */\n",
       "  background-color: var(--sklearn-color-fitted-level-2);\n",
       "}\n",
       "\n",
       "/* Specification for estimator info (e.g. \"i\" and \"?\") */\n",
       "\n",
       "/* Common style for \"i\" and \"?\" */\n",
       "\n",
       ".sk-estimator-doc-link,\n",
       "a:link.sk-estimator-doc-link,\n",
       "a:visited.sk-estimator-doc-link {\n",
       "  float: right;\n",
       "  font-size: smaller;\n",
       "  line-height: 1em;\n",
       "  font-family: monospace;\n",
       "  background-color: var(--sklearn-color-background);\n",
       "  border-radius: 1em;\n",
       "  height: 1em;\n",
       "  width: 1em;\n",
       "  text-decoration: none !important;\n",
       "  margin-left: 1ex;\n",
       "  /* unfitted */\n",
       "  border: var(--sklearn-color-unfitted-level-1) 1pt solid;\n",
       "  color: var(--sklearn-color-unfitted-level-1);\n",
       "}\n",
       "\n",
       ".sk-estimator-doc-link.fitted,\n",
       "a:link.sk-estimator-doc-link.fitted,\n",
       "a:visited.sk-estimator-doc-link.fitted {\n",
       "  /* fitted */\n",
       "  border: var(--sklearn-color-fitted-level-1) 1pt solid;\n",
       "  color: var(--sklearn-color-fitted-level-1);\n",
       "}\n",
       "\n",
       "/* On hover */\n",
       "div.sk-estimator:hover .sk-estimator-doc-link:hover,\n",
       ".sk-estimator-doc-link:hover,\n",
       "div.sk-label-container:hover .sk-estimator-doc-link:hover,\n",
       ".sk-estimator-doc-link:hover {\n",
       "  /* unfitted */\n",
       "  background-color: var(--sklearn-color-unfitted-level-3);\n",
       "  color: var(--sklearn-color-background);\n",
       "  text-decoration: none;\n",
       "}\n",
       "\n",
       "div.sk-estimator.fitted:hover .sk-estimator-doc-link.fitted:hover,\n",
       ".sk-estimator-doc-link.fitted:hover,\n",
       "div.sk-label-container:hover .sk-estimator-doc-link.fitted:hover,\n",
       ".sk-estimator-doc-link.fitted:hover {\n",
       "  /* fitted */\n",
       "  background-color: var(--sklearn-color-fitted-level-3);\n",
       "  color: var(--sklearn-color-background);\n",
       "  text-decoration: none;\n",
       "}\n",
       "\n",
       "/* Span, style for the box shown on hovering the info icon */\n",
       ".sk-estimator-doc-link span {\n",
       "  display: none;\n",
       "  z-index: 9999;\n",
       "  position: relative;\n",
       "  font-weight: normal;\n",
       "  right: .2ex;\n",
       "  padding: .5ex;\n",
       "  margin: .5ex;\n",
       "  width: min-content;\n",
       "  min-width: 20ex;\n",
       "  max-width: 50ex;\n",
       "  color: var(--sklearn-color-text);\n",
       "  box-shadow: 2pt 2pt 4pt #999;\n",
       "  /* unfitted */\n",
       "  background: var(--sklearn-color-unfitted-level-0);\n",
       "  border: .5pt solid var(--sklearn-color-unfitted-level-3);\n",
       "}\n",
       "\n",
       ".sk-estimator-doc-link.fitted span {\n",
       "  /* fitted */\n",
       "  background: var(--sklearn-color-fitted-level-0);\n",
       "  border: var(--sklearn-color-fitted-level-3);\n",
       "}\n",
       "\n",
       ".sk-estimator-doc-link:hover span {\n",
       "  display: block;\n",
       "}\n",
       "\n",
       "/* \"?\"-specific style due to the `<a>` HTML tag */\n",
       "\n",
       "#sk-container-id-19 a.estimator_doc_link {\n",
       "  float: right;\n",
       "  font-size: 1rem;\n",
       "  line-height: 1em;\n",
       "  font-family: monospace;\n",
       "  background-color: var(--sklearn-color-background);\n",
       "  border-radius: 1rem;\n",
       "  height: 1rem;\n",
       "  width: 1rem;\n",
       "  text-decoration: none;\n",
       "  /* unfitted */\n",
       "  color: var(--sklearn-color-unfitted-level-1);\n",
       "  border: var(--sklearn-color-unfitted-level-1) 1pt solid;\n",
       "}\n",
       "\n",
       "#sk-container-id-19 a.estimator_doc_link.fitted {\n",
       "  /* fitted */\n",
       "  border: var(--sklearn-color-fitted-level-1) 1pt solid;\n",
       "  color: var(--sklearn-color-fitted-level-1);\n",
       "}\n",
       "\n",
       "/* On hover */\n",
       "#sk-container-id-19 a.estimator_doc_link:hover {\n",
       "  /* unfitted */\n",
       "  background-color: var(--sklearn-color-unfitted-level-3);\n",
       "  color: var(--sklearn-color-background);\n",
       "  text-decoration: none;\n",
       "}\n",
       "\n",
       "#sk-container-id-19 a.estimator_doc_link.fitted:hover {\n",
       "  /* fitted */\n",
       "  background-color: var(--sklearn-color-fitted-level-3);\n",
       "}\n",
       "</style><div id=\"sk-container-id-19\" class=\"sk-top-container\"><div class=\"sk-text-repr-fallback\"><pre>XGBRegressor(base_score=None, booster=None, callbacks=None,\n",
       "             colsample_bylevel=None, colsample_bynode=None,\n",
       "             colsample_bytree=None, device=&#x27;cuda&#x27;, early_stopping_rounds=None,\n",
       "             enable_categorical=False, eval_metric=None, feature_types=None,\n",
       "             gamma=None, grow_policy=None, importance_type=None,\n",
       "             interaction_constraints=None, learning_rate=0.15, max_bin=None,\n",
       "             max_cat_threshold=None, max_cat_to_onehot=None,\n",
       "             max_delta_step=None, max_depth=None, max_leaves=None,\n",
       "             min_child_weight=None, missing=nan, monotone_constraints=None,\n",
       "             multi_strategy=None, n_estimators=850, n_jobs=None,\n",
       "             num_parallel_tree=None, random_state=None, ...)</pre><b>In a Jupyter environment, please rerun this cell to show the HTML representation or trust the notebook. <br />On GitHub, the HTML representation is unable to render, please try loading this page with nbviewer.org.</b></div><div class=\"sk-container\" hidden><div class=\"sk-item\"><div class=\"sk-estimator fitted sk-toggleable\"><input class=\"sk-toggleable__control sk-hidden--visually\" id=\"sk-estimator-id-19\" type=\"checkbox\" checked><label for=\"sk-estimator-id-19\" class=\"sk-toggleable__label fitted sk-toggleable__label-arrow fitted\">&nbsp;XGBRegressor<span class=\"sk-estimator-doc-link fitted\">i<span>Fitted</span></span></label><div class=\"sk-toggleable__content fitted\"><pre>XGBRegressor(base_score=None, booster=None, callbacks=None,\n",
       "             colsample_bylevel=None, colsample_bynode=None,\n",
       "             colsample_bytree=None, device=&#x27;cuda&#x27;, early_stopping_rounds=None,\n",
       "             enable_categorical=False, eval_metric=None, feature_types=None,\n",
       "             gamma=None, grow_policy=None, importance_type=None,\n",
       "             interaction_constraints=None, learning_rate=0.15, max_bin=None,\n",
       "             max_cat_threshold=None, max_cat_to_onehot=None,\n",
       "             max_delta_step=None, max_depth=None, max_leaves=None,\n",
       "             min_child_weight=None, missing=nan, monotone_constraints=None,\n",
       "             multi_strategy=None, n_estimators=850, n_jobs=None,\n",
       "             num_parallel_tree=None, random_state=None, ...)</pre></div> </div></div></div></div>"
      ],
      "text/plain": [
       "XGBRegressor(base_score=None, booster=None, callbacks=None,\n",
       "             colsample_bylevel=None, colsample_bynode=None,\n",
       "             colsample_bytree=None, device='cuda', early_stopping_rounds=None,\n",
       "             enable_categorical=False, eval_metric=None, feature_types=None,\n",
       "             gamma=None, grow_policy=None, importance_type=None,\n",
       "             interaction_constraints=None, learning_rate=0.15, max_bin=None,\n",
       "             max_cat_threshold=None, max_cat_to_onehot=None,\n",
       "             max_delta_step=None, max_depth=None, max_leaves=None,\n",
       "             min_child_weight=None, missing=nan, monotone_constraints=None,\n",
       "             multi_strategy=None, n_estimators=850, n_jobs=None,\n",
       "             num_parallel_tree=None, random_state=None, ...)"
      ]
     },
     "execution_count": 105,
     "metadata": {},
     "output_type": "execute_result"
    }
   ],
   "source": [
    "XGBRegressor = XGBRegressor(\n",
    "    n_estimators=850,\n",
    "    learning_rate=0.15,\n",
    "    seed=42,\n",
    "    tree_method='gpu_hist',  # Use GPU for training\n",
    "    device='cuda'  # Specify to use CUDA-enabled GPU\n",
    ")\n",
    "\n",
    "XGBRegressor.fit(\n",
    "    X_trainH,\n",
    "    y_trainH,  \n",
    "    verbose=False,\n",
    ")"
   ]
  },
  {
   "cell_type": "markdown",
   "metadata": {},
   "source": [
    "Can't capture the complexities of the features obviously as many factors can cause shift in bike demand such as previous hour's bike demand."
   ]
  },
  {
   "cell_type": "code",
   "execution_count": 106,
   "metadata": {},
   "outputs": [
    {
     "name": "stdout",
     "output_type": "stream",
     "text": [
      "recovered_y_pred: [1557.3412, 1501.5454, 95.156494, 936.3666, 385.65137, 956.43494, 212.80103, 613.6236, 221.95569, 1528.2339, 936.8601, 1763.3772, 166.01361, 247.80972, 1592.6743, 219.80524, 901.6829, 1105.3727, 1206.938, 557.0579, 309.59753, 768.38055, 370.53424, 225.09625, 353.94586, 242.70514, 1138.2247, 324.303, 243.06485, 267.0492, 117.8996, 41.77649, 168.41748, 1381.5796, 196.34064, 946.9302, 1142.5767, 398.99356, 365.01666, 268.12433, 211.74841, 743.7198, 970.016, 869.7271, 292.39838, 348.71118, 1444.5969, 218.21121, 773.39923, 247.24374, 332.33978, 435.1859, 37.314087, 126.05798, 826.94196, 1059.5973, 1519.679, 564.6111, -23.679443, 859.51953, 404.16846, 1074.791, 191.67706, 246.21054, 105.11963, 120.45355, 761.8409, -113.592896, 162.854, 982.92944, 11.361938, 552.1228, 177.37048, 164.21313, 242.36624, 1025.1182, 265.9148, 358.60757, 1297.179, 1103.7048, 972.3219, -6.918457, 1022.7652, 3088.1133, 276.7952, 202.41266, 2395.8694, 2408.2117, 377.03604, 163.16467, 1535.0469, 795.8339, 1304.196, 403.80054, 1500.0834, 436.78293, 1516.8423, 349.6236, 123.47742, 1068.2188, 1969.2725, 156.08392, 315.15247, -30.400696, 512.0323, 981.66144, 943.377, 1091.713, 176.34613, 1701.5792, 248.9277, 1467.1292, 95.013, 1015.9222, 494.19873, 512.86755, 634.1324, 686.32556, 732.86926, 723.0661, 1029.5266, 43.41748, 1597.7898, 227.38455, 1802.2395, 781.5014, 142.72766, 1224.5308, 1611.7701, 154.1742, 619.2549, 1284.5999, 1656.4943, 190.19849, 966.59534, 6.0756836, 1255.3704, 262.50745, 100.85254, 30.194824, 693.8154, 1506.9679, 193.93262, 253.97604, 79.32971, 1547.8862, 1083.0682, 802.8046, 76.992004, 1722.965, 1179.3335, 27.13794, 97.217834, 703.8462, 177.5586, 340.1614, 236.40668, 353.47897, 120.50647, 1173.0078, -97.76691, 253.65909, 533.592, 99.34802, 420.4954, 567.5084, 138.18549, 230.72278, 827.11084, 11.010132, 649.28687, 961.3145, 709.1964, 674.74316, 265.91116, 1621.008, 775.7935, 135.71301, 806.34106, 166.6128, 1670.331, 658.12354, 284.26538, 420.97116, 120.13794, 87.23016, -7.106201, 870.6754, 976.3887, 639.1933, 627.60614, 723.067, 1648.6831, 222.025, 1220.1729, 81.53082, 908.19, 61.369385, 959.1337, 990.479, 15.37323, 103.20557, 399.01224, 118.276, 200.69427, 723.883, 1348.3125, 1096.5703, 232.60641, 1871.9431, 1147.2754, 535.15344, 461.34827, 225.28192, 404.97052, 1556.1055, 40.541504, 318.12518, 26.11621, 1171.4275, 1687.7593, 291.76755, 1923.614, 1682.3357, 187.02234, 856.22266, 145.02173, 799.1073, 1150.1292, 229.98276, 127.66351, 1590.497, 573.96747, 685.90125, 409.03598, 323.74518, 55.105225, 466.1869, 1821.9082, 346.43808, 89.84119, 115.756165, 1228.1511, 85.31537, 1769.4343, 507.8569, 321.6943, 296.9237, 1511.0293, 681.7232, 1696.6117, 2205.5452, 650.3988, 652.6141, 921.4405, 714.6732, 300.62717, 151.2201, 38.210144, 588.2048, 834.0555, -35.27307, 1548.581, 962.55334, 1536.2605, 909.7904, 1191.7094, 79.95337, 157.33295, 569.8084, 52.83777, 1709.0823, 293.49738, 219.41232, 494.72723, 2376.018, 2364.0784, 1087.6497, 1378.7327, 140.02655, 332.49442, 319.08618, 378.4835, 56.447876, 2655.47, 425.86365, 838.92444, 176.92877, 1395.3547, 1358.3848, 980.9855, 352.42142, 1960.0842, 1011.0157, 2010.3127, 1202.957, 2015.1033, 158.74402, 235.72449, 2196.2266, 917.3425, 406.01364, 132.26617, 965.6175, 408.04935, 7.107666, 810.09827, 38.855896, 275.85004, 250.13348, 772.46484, 1871.3042, 930.9217, 2427.4739, 572.65247, 66.40796, 177.4942, 2623.2979, 2539.15, 436.91068, 330.57742, 63.626465, 37.95587, 236.59448, 157.06085, 2302.5312, 1610.3478, 1483.2568, 2369.188, 1047.9954, 2399.066, 193.24298, 286.82034, 1038.294, -15.450562, 50.00598, 68.08917, 99.3858, 1017.37964, 700.41345, 283.91324, -309.68695, 1297.1285, 868.2557, 2476.479, 1118.9482, 104.02814, 126.16516, 151.90564, 426.25925, 1299.4386, 790.6319, 2327.443, 298.26328, 217.98856, 270.50552, 1680.8135, 2789.079, 925.0322, 154.42584, 173.74011, 1538.9086, 84.07507, 285.53555, 268.88232, 975.6222, 110.68677, 1169.774, 2396.8494, 1549.1306, 450.46735, 145.50366, 1973.519, 2024.258, 1612.9817, 838.579, 175.60559, 850.53845, 331.70352, 1162.4501, 1153.5835, 365.0077, 119.131165, 1028.4966, 317.39932, 1595.3042, 945.0702, 1825.384, 351.7507, 270.05145, 854.9129, 91.98157, 56.849792, 172.53381, 48.184998, 1790.1599, 924.1124, 1189.77, 133.34607, 1240.8496, 175.81946, 1764.3333, 1757.7227, 469.9673, 1705.6547, 698.6826, 211.35788, 1596.0383, 190.34967, -1.9068604, 249.81119, 1214.3965, 772.6568, 1559.0664, 635.962, 970.2833, 1452.8809, 308.1077, 522.6997, 872.20703, 132.46906, 2019.5139, 836.99457, 90.29761, 177.30377, 1057.1178, 162.6305, 36.697815, 56.246277, 151.48663, 810.5083, 485.66345, 1839.8193, 129.64362, 132.62213, 439.35608, 471.21857, 1242.351, 1310.2781, 1240.405, 272.85706, 320.67996, 1208.8733, 378.19556, 235.15787, 686.71924, 18.063904, 198.005, 2358.1912, 309.52267, 140.06348, 1960.7549, 204.86182, 258.84964, 1537.426, 2036.2607, 142.32751, 2069.2234, 139.78357, 1893.9458, 902.1632, 1191.2676, 1046.7444, 942.8916, 343.20294, 1159.8633, 968.99963, 1740.374, 166.08722, 157.08374, 145.39093, 234.16156, 259.89987, 420.4548, 737.3623, 1097.4814, 180.10504, 397.35828, 412.13943, 425.237, 148.3642, 64.821045, 92.445496, 589.27924, 121.57208, 1752.7222, 410.6791, 48.946594, 150.37256, 179.89618, 1098.9398, 1079.6998, 52.59088, 830.84576, 65.71893, 1041.7563, 1396.654, 211.50595, 183.29388, 103.02893, 907.6503, 1844.2058, 1305.4092, 1315.363, 333.2436, 112.69635, 1003.6907, 1078.0093, 999.8972, 1700.6597, 405.06647, 334.49133, 280.2319, 189.22186, 794.3197, 135.51434, 69.94269, 145.21368, 328.13663, 943.7019, 708.80634, 270.1941, 426.2781, 2065.0164, 248.90784, 969.25903, -50.01581, 98.653015, 849.23035, 1006.6943, 1176.5623, 940.06445, 1097.0831, 355.53964, 528.1448, 1223.5127, 1368.8842, 158.57166, 373.50104, 129.6723, 839.6748, -90.913635, 988.3312, 676.28204, 121.21069, 1086.5614, 1369.1187, 403.55756, 1981.7776, 176.47833, 3257.6545, 223.51886, 978.6086, 348.37112, 1299.6619, 45.36322, 1029.7102, 45.38983, 138.99615, 1.3424072, 328.98645, 177.75623, 754.392, 1028.1903, 251.86462, 1046.0055, 789.09076, 612.4426, 724.99005, 313.26382, 395.6385, 1257.2039, 403.41052, 541.1021, 56.38806, 167.26337, 364.4368, 1686.6338, 93.78143, 673.7172, 809.53235, 1643.5938, 1620.1057, 18.175842, 1803.1401, 426.54828, 264.57047, 1498.1523, 73.077515, 309.5511, 241.22348, 283.60556, 204.22354, 1427.1406, 90.646484, 511.60303, 560.00714, 838.5425, 860.95325, 525.47266, 722.4149, 239.3057, 116.33588, 152.74475, -48.75763, -17.26538, 2016.145, 303.7842, -32.61609, 30.20459, 1904.8562, 251.51303, 365.3907, 168.70557, 802.7092, 721.13086, 362.1682, 2528.843, 1367.7251, 1758.4895, 673.37024, 776.6907, 650.9719, 55.26172, 140.30774, 25.904053, 584.645, 1455.1387, 161.02264, 65.88574, 395.34943, 92.66394, 423.47015, 591.9064, 1066.9199, 732.5156, 978.76184, 138.26062, 1812.427, 135.14276, 1108.8014, 746.6805, 198.18387, 67.98212, 1755.7466, 141.71558, 147.7785, 1581.6497, 1010.7277, 672.1341, 1387.3806, 132.6236, -107.37097, 451.31488, 1002.3767, 280.42508, 2358.725, 960.75507, 196.96414, 1447.8782, 84.6897, 1370.169, 1527.5369, 538.28046, 228.5665, 924.19025, 1087.5039, 797.40533, 554.9982, 60.586975, 942.941, 665.72015, 1353.9563, 264.76547, 933.34875, 255.75119, 891.4471, 50.327698, 84.603516, 181.61072, 117.97821, -101.26373, 1922.3333, 1356.9712, 708.91364, 309.1456, 40.50476, 937.0399, 1929.8987, 450.41354, 41.51068, 873.8821, 1760.8652, 456.5937, 135.89679, 695.39105, 1424.9738, 159.79272, 1187.7931, 1991.8237, 3.4501953, 0.7913208, 268.1032, 344.48895, 1239.721, 245.84225, 450.9624, 2064.8188, 1908.1174, 190.07935, 551.8319, 357.2749, 60.548218, 1726.4069, 121.65369, 1605.1189, 1345.125, 520.6603, 542.7436, 1042.6079, 629.1453, 178.30133, 1544.769, 513.8925, 1697.5477, 16.916931, 389.92282, 680.4031, 1202.5896, 498.17572, 168.51685, 1841.3384, 1369.9037, 524.3662, 480.3891, 938.8519, 1625.508, 1065.6425, -25.549927, 847.7394, 209.96115, 2113.7957, 526.58044, 323.31552, 213.76254, 110.783325, 904.3824, 538.01, 373.93423, 1004.6168, 462.10382, 309.04883, 271.73584, 404.12643, 1011.7348, 170.16754, 131.36395, 1075.0576, 926.96985, 260.58612, 639.22534, 246.30917, 338.84583, 295.42932, 445.39465, 1565.2189, 113.13898, 259.49243, -8.035706, 763.85236, 567.21796, 389.12204, 499.1007, 864.4945, 2279.4746, 184.80658, 1228.7124, -6.237488, 1296.3678, 1095.1813, 996.958, 1250.1758, 376.1311, 192.04071, 990.27795, 1114.2883, 1131.2686, 71.23151, 1548.2297, 179.23492, 1031.1733, 1369.2029, 411.60654, 1537.7407, 375.87668, 993.1307, 530.2328, 841.28827, 1323.0458, 463.3876, 239.38638, 370.8477, 1928.2651, 1490.3972, 894.0596, 250.61746, 329.582, 473.76205, 629.3614, 882.4531, 481.9265, 2626.8604, 452.15225, 989.5024, 206.38745, 693.46686, 77.28247, 261.98145, 1446.9331, 805.74304, 46.034363, 494.61322, 107.87775, 326.3873, 974.4458, 288.89322, 73.01764, 1413.1477, 141.73901, 276.5589, 277.59988, 444.76456, 261.1173, 846.1168, 759.1365, 102.11554, 203.78555, 934.7669, 126.5332, 1534.9453, 141.2124, 186.93536, 1293.8419, 236.13101, 751.21783, 321.5519, 915.95856, 1236.6604, 2720.8486, 171.4751, 1725.5857, 3.989624, 1425.5356, 66.34094, 451.7072, 106.28668, 1431.6909, -68.85242, 554.11743, 1242.1052, 395.0407, 263.47668, 712.44006, 2349.3464, 688.07214, 41.134766, -9.727783, 195.47781, 116.84717, 166.62561, 2087.1816, 139.84418, 77.91809, 95.68591, 1394.9774, 719.632]\n",
      "Reverted y_test: [1346, 1550, 43, 1016, 342, 853, 216, 557, 112, 1611, 836, 1761, 186, 169, 1955, 237, 727, 994, 1178, 616, 258, 1061, 396, 194, 382, 237, 1039, 292, 237, 246, 191, 60, 189, 1209, 263, 1465, 1550, 460, 194, 219, 213, 628, 1083, 899, 328, 332, 1416, 249, 790, 14, 415, 368, 0, 190, 770, 1099, 1154, 424, 33, 948, 241, 848, 206, 284, 70, 0, 629, 0, 262, 945, 45, 402, 196, 162, 497, 1119, 184, 478, 1206, 604, 954, 50, 898, 2891, 234, 125, 1985, 2830, 70, 172, 1556, 759, 1556, 230, 1644, 336, 1808, 521, 148, 1423, 1634, 177, 311, 41, 578, 1064, 775, 1243, 227, 1223, 123, 1393, 118, 1303, 482, 399, 667, 484, 920, 930, 759, 0, 1827, 211, 1707, 852, 145, 1783, 1641, 170, 859, 1258, 3088, 199, 1097, 49, 1120, 150, 76, 35, 775, 1247, 240, 166, 84, 1551, 1032, 931, 80, 2074, 491, 30, 139, 225, 227, 330, 320, 276, 140, 1118, 5, 384, 444, 96, 429, 672, 130, 348, 785, 81, 378, 920, 653, 638, 279, 2391, 781, 112, 808, 158, 1935, 649, 213, 375, 73, 0, 0, 733, 1062, 724, 647, 906, 1360, 137, 1142, 179, 884, 5, 821, 1004, 182, 80, 470, 159, 387, 627, 1323, 934, 184, 1943, 1360, 525, 422, 191, 459, 1548, 55, 375, 10, 1164, 1558, 271, 1878, 1731, 16, 842, 165, 646, 1292, 262, 121, 1648, 571, 563, 467, 301, 62, 786, 1525, 70, 100, 19, 714, 94, 1608, 650, 388, 275, 1503, 797, 1571, 2055, 286, 881, 885, 578, 120, 154, 0, 632, 853, 0, 1394, 822, 1236, 818, 1251, 103, 134, 579, 19, 2097, 162, 210, 473, 1928, 2118, 1054, 898, 115, 294, 367, 214, 68, 1950, 517, 952, 240, 1270, 1106, 893, 320, 1635, 664, 1993, 819, 2055, 192, 233, 1058, 1017, 372, 152, 926, 455, 0, 1421, 44, 200, 211, 753, 1719, 630, 2487, 520, 111, 191, 3418, 2836, 326, 389, 39, 0, 253, 372, 2387, 1890, 1593, 2416, 1208, 2656, 278, 331, 1096, 17, 15, 115, 80, 967, 340, 333, 0, 616, 791, 2811, 1040, 127, 126, 194, 377, 1023, 766, 2355, 300, 277, 58, 1945, 2479, 409, 148, 173, 1632, 93, 306, 320, 1118, 13, 1511, 1702, 992, 387, 167, 1737, 2635, 1407, 959, 122, 687, 314, 1167, 654, 336, 111, 839, 349, 1714, 932, 1700, 256, 269, 794, 22, 0, 180, 0, 1226, 385, 1158, 189, 1278, 259, 1991, 1442, 169, 1110, 680, 210, 1535, 203, 0, 133, 1095, 1018, 1654, 623, 945, 1550, 249, 490, 1014, 95, 1935, 916, 107, 18, 982, 170, 48, 50, 169, 919, 301, 1857, 147, 132, 483, 592, 1401, 1082, 1083, 352, 343, 1220, 332, 300, 747, 2, 161, 2491, 286, 178, 2155, 246, 208, 1717, 2224, 38, 1743, 175, 1806, 846, 1659, 942, 763, 414, 1234, 1113, 1500, 99, 221, 165, 197, 416, 302, 782, 1112, 189, 443, 456, 346, 151, 58, 54, 295, 110, 2100, 354, 82, 114, 247, 1045, 921, 45, 1336, 104, 895, 1161, 218, 251, 105, 763, 2029, 1292, 1224, 325, 125, 957, 960, 1210, 1900, 339, 301, 208, 193, 992, 71, 82, 85, 308, 1087, 665, 277, 533, 1863, 243, 936, 0, 208, 793, 983, 1395, 1243, 1169, 253, 453, 1181, 754, 41, 370, 128, 585, 0, 930, 635, 152, 1060, 1635, 398, 1995, 0, 2474, 247, 940, 414, 1263, 62, 1088, 25, 56, 33, 357, 204, 655, 1113, 309, 1487, 872, 580, 683, 268, 487, 1615, 327, 631, 160, 197, 382, 1608, 58, 776, 655, 721, 1903, 61, 2068, 360, 234, 1657, 0, 334, 223, 387, 217, 1657, 0, 586, 664, 1271, 616, 362, 625, 181, 222, 169, 12, 62, 1944, 289, 22, 34, 1804, 267, 423, 177, 692, 691, 202, 1624, 925, 1847, 561, 555, 712, 28, 130, 52, 695, 1556, 212, 95, 328, 0, 243, 563, 933, 716, 767, 144, 1869, 445, 721, 782, 144, 86, 2115, 199, 0, 1779, 959, 697, 1089, 142, 0, 665, 951, 273, 2122, 1101, 55, 1190, 16, 1458, 1446, 625, 196, 1079, 810, 835, 440, 254, 792, 839, 1389, 182, 834, 240, 817, 45, 0, 74, 199, 0, 1183, 684, 588, 334, 0, 1084, 1562, 760, 0, 813, 2260, 223, 0, 931, 1501, 188, 1142, 2255, 40, 0, 193, 819, 1187, 88, 406, 2034, 2057, 296, 539, 405, 106, 1836, 129, 1665, 1269, 486, 573, 257, 774, 200, 1678, 402, 1517, 0, 392, 846, 883, 537, 47, 2034, 1334, 424, 398, 972, 1860, 1045, 0, 752, 48, 2084, 71, 267, 173, 78, 779, 476, 558, 959, 471, 119, 239, 531, 679, 141, 137, 1284, 1284, 0, 732, 305, 258, 309, 416, 1566, 44, 240, 47, 848, 562, 376, 532, 1065, 2320, 60, 1162, 34, 1123, 1212, 1041, 1116, 260, 191, 982, 1975, 1099, 93, 1377, 261, 1215, 1433, 425, 1363, 552, 1246, 520, 698, 1575, 418, 180, 421, 1641, 1777, 818, 308, 263, 502, 139, 1066, 816, 3222, 397, 979, 191, 1289, 71, 296, 2108, 946, 37, 680, 122, 235, 939, 285, 126, 1603, 173, 387, 318, 681, 325, 1039, 662, 174, 210, 827, 166, 1493, 95, 192, 1035, 251, 1524, 298, 750, 1134, 3113, 222, 2401, 916, 1642, 41, 535, 343, 1421, 2, 518, 1064, 322, 170, 764, 2069, 1156, 55, 47, 205, 147, 145, 1881, 122, 112, 0, 2088, 847]\n"
     ]
    },
    {
     "name": "stderr",
     "output_type": "stream",
     "text": [
      "c:\\Users\\lordw\\OneDrive\\Documents\\Python_Master\\Coding_Projects\\BikingAnalytics\\venv\\Lib\\site-packages\\xgboost\\core.py:158: UserWarning: [17:41:38] WARNING: C:\\buildkite-agent\\builds\\buildkite-windows-cpu-autoscaling-group-i-0015a694724fa8361-1\\xgboost\\xgboost-ci-windows\\src\\common\\error_msg.cc:27: The tree method `gpu_hist` is deprecated since 2.0.0. To use GPU training, set the `device` parameter to CUDA instead.\n",
      "\n",
      "    E.g. tree_method = \"hist\", device = \"cuda\"\n",
      "\n",
      "  warnings.warn(smsg, UserWarning)\n"
     ]
    }
   ],
   "source": [
    "y_pred = XGBRegressor.predict(X_testH)\n",
    "# Calculate metrics\n",
    "\n",
    "# Convert back to original scale (if needed for other calculations)\n",
    "#xg_recovered_y_test = np.exp(y_testH) - 1\n",
    "#xg_ypred_reverted = np.exp(y_pred) - 1\n",
    "print(f\"recovered_y_pred: {[i for i in y_pred]}\")\n",
    "print(f\"Reverted y_test: {[i for i in y_testH]}\")"
   ]
  },
  {
   "cell_type": "code",
   "execution_count": 107,
   "metadata": {},
   "outputs": [
    {
     "name": "stdout",
     "output_type": "stream",
     "text": [
      "Root Mean Squared Error: 201.57577581822187\n",
      "Mean Squared Error: 40632.793396718036\n",
      "Mean Absolute Error: 123.79708447739414\n"
     ]
    }
   ],
   "source": [
    "rmse = root_mean_squared_error(y_testH, y_pred)  # RMSE\n",
    "mse = mean_squared_error(y_testH, y_pred)\n",
    "mae = mean_absolute_error(y_testH, y_pred)\n",
    "print(\"Root Mean Squared Error:\", rmse)\n",
    "print(\"Mean Squared Error:\", mse)\n",
    "print(\"Mean Absolute Error:\", mae)"
   ]
  },
  {
   "cell_type": "code",
   "execution_count": 108,
   "metadata": {},
   "outputs": [
    {
     "data": {
      "image/png": "[encoded data removed]",
      "text/plain": [
       "<Figure size 640x480 with 1 Axes>"
      ]
     },
     "metadata": {},
     "output_type": "display_data"
    }
   ],
   "source": [
    "plt.scatter(y_pred, y_testH, alpha=0.25, color='orange')\n",
    "plt.title(\"Y_pred vs Y_test\")\n",
    "plt.xlabel(\"Predictions\")\n",
    "plt.ylabel(\"Actual\")\n",
    "plt.show()"
   ]
  },
  {
   "cell_type": "markdown",
   "metadata": {},
   "source": [
    "Awesome Results from the XGBoost model for hourly data"
   ]
  },
  {
   "cell_type": "code",
   "execution_count": 109,
   "metadata": {},
   "outputs": [
    {
     "data": {
      "text/plain": [
       "['XGBRegressor.joblib']"
      ]
     },
     "execution_count": 109,
     "metadata": {},
     "output_type": "execute_result"
    }
   ],
   "source": [
    "# Saving The XGBoost Model\n",
    "\n",
    "joblib.dump(XGBRegressor, \"XGBRegressor.joblib\")"
   ]
  },
  {
   "cell_type": "code",
   "execution_count": null,
   "metadata": {},
   "outputs": [],
   "source": []
  }
 ],
 "metadata": {
  "kernelspec": {
   "display_name": "venv",
   "language": "python",
   "name": "python3"
  },
  "language_info": {
   "codemirror_mode": {
    "name": "ipython",
    "version": 3
   },
   "file_extension": ".py",
   "mimetype": "text/x-python",
   "name": "python",
   "nbconvert_exporter": "python",
   "pygments_lexer": "ipython3",
   "version": "3.12.7"
  }
 },
 "nbformat": 4,
 "nbformat_minor": 2
}
